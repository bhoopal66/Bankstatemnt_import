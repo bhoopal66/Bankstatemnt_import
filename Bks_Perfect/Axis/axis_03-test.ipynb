{
 "cells": [
  {
   "cell_type": "code",
   "execution_count": 25,
   "metadata": {},
   "outputs": [],
   "source": [
    "import pandas as pd\n",
    "import tabula\n",
    "import camelot\n",
    "import numpy as np"
   ]
  },
  {
   "cell_type": "code",
   "execution_count": null,
   "metadata": {},
   "outputs": [],
   "source": []
  },
  {
   "cell_type": "code",
   "execution_count": null,
   "metadata": {},
   "outputs": [],
   "source": []
  },
  {
   "cell_type": "code",
   "execution_count": null,
   "metadata": {},
   "outputs": [],
   "source": []
  },
  {
   "cell_type": "code",
   "execution_count": null,
   "metadata": {},
   "outputs": [],
   "source": []
  },
  {
   "cell_type": "code",
   "execution_count": null,
   "metadata": {},
   "outputs": [],
   "source": []
  },
  {
   "cell_type": "code",
   "execution_count": null,
   "metadata": {},
   "outputs": [],
   "source": []
  },
  {
   "cell_type": "code",
   "execution_count": null,
   "metadata": {},
   "outputs": [],
   "source": []
  },
  {
   "cell_type": "code",
   "execution_count": 38,
   "metadata": {},
   "outputs": [
    {
     "data": {
      "text/html": [
       "<div>\n",
       "<style scoped>\n",
       "    .dataframe tbody tr th:only-of-type {\n",
       "        vertical-align: middle;\n",
       "    }\n",
       "\n",
       "    .dataframe tbody tr th {\n",
       "        vertical-align: top;\n",
       "    }\n",
       "\n",
       "    .dataframe thead th {\n",
       "        text-align: right;\n",
       "    }\n",
       "</style>\n",
       "<table border=\"1\" class=\"dataframe\">\n",
       "  <thead>\n",
       "    <tr style=\"text-align: right;\">\n",
       "      <th></th>\n",
       "      <th>0</th>\n",
       "      <th>1</th>\n",
       "      <th>2</th>\n",
       "      <th>3</th>\n",
       "      <th>4</th>\n",
       "      <th>5</th>\n",
       "      <th>6</th>\n",
       "      <th>7</th>\n",
       "      <th>8</th>\n",
       "    </tr>\n",
       "  </thead>\n",
       "  <tbody>\n",
       "    <tr>\n",
       "      <th>0</th>\n",
       "      <td>Tran Date</td>\n",
       "      <td>Value Date</td>\n",
       "      <td>Transaction Particulars</td>\n",
       "      <td>Chq No.</td>\n",
       "      <td>Amount</td>\n",
       "      <td>DR|CR</td>\n",
       "      <td>Balance</td>\n",
       "      <td>Branch Name</td>\n",
       "      <td></td>\n",
       "    </tr>\n",
       "    <tr>\n",
       "      <th>1</th>\n",
       "      <td></td>\n",
       "      <td></td>\n",
       "      <td>OPENING BALANCE :</td>\n",
       "      <td></td>\n",
       "      <td></td>\n",
       "      <td></td>\n",
       "      <td>25184.55</td>\n",
       "      <td></td>\n",
       "      <td></td>\n",
       "    </tr>\n",
       "    <tr>\n",
       "      <th>2</th>\n",
       "      <td>22-10-2019\\n24-10-2019\\n24-10-2019\\n28-10-2019...</td>\n",
       "      <td>22-10-2019\\n24-10-2019\\n24-10-2019\\n28-10-2019...</td>\n",
       "      <td>ECOM PUR/PTM*PAYTM/NOIDA/221019/13:47\\nDr Card...</td>\n",
       "      <td>383</td>\n",
       "      <td>5970.00\\n295.00\\n85.75\\n3200.00\\n3000.00\\n1600...</td>\n",
       "      <td>DR\\nDR\\nDR\\nCR\\nCR\\nDR\\nCR\\nCR\\nDR\\nDR\\nDR\\nDR...</td>\n",
       "      <td>10753.03\\n10458.03\\n10372.28\\n13572.28\\n16572....</td>\n",
       "      <td>ZAMROODPUR\\nDEL DL\\nDATA CENTRE-\\nCHEMBUR\\nZAM...</td>\n",
       "      <td></td>\n",
       "    </tr>\n",
       "    <tr>\n",
       "      <th>3</th>\n",
       "      <td></td>\n",
       "      <td></td>\n",
       "      <td></td>\n",
       "      <td></td>\n",
       "      <td></td>\n",
       "      <td></td>\n",
       "      <td></td>\n",
       "      <td></td>\n",
       "      <td></td>\n",
       "    </tr>\n",
       "  </tbody>\n",
       "</table>\n",
       "</div>"
      ],
      "text/plain": [
       "                                                   0  \\\n",
       "0                                          Tran Date   \n",
       "1                                                      \n",
       "2  22-10-2019\\n24-10-2019\\n24-10-2019\\n28-10-2019...   \n",
       "3                                                      \n",
       "\n",
       "                                                   1  \\\n",
       "0                                         Value Date   \n",
       "1                                                      \n",
       "2  22-10-2019\\n24-10-2019\\n24-10-2019\\n28-10-2019...   \n",
       "3                                                      \n",
       "\n",
       "                                                   2        3  \\\n",
       "0                            Transaction Particulars  Chq No.   \n",
       "1                                  OPENING BALANCE :            \n",
       "2  ECOM PUR/PTM*PAYTM/NOIDA/221019/13:47\\nDr Card...      383   \n",
       "3                                                               \n",
       "\n",
       "                                                   4  \\\n",
       "0                                             Amount   \n",
       "1                                                      \n",
       "2  5970.00\\n295.00\\n85.75\\n3200.00\\n3000.00\\n1600...   \n",
       "3                                                      \n",
       "\n",
       "                                                   5  \\\n",
       "0                                              DR|CR   \n",
       "1                                                      \n",
       "2  DR\\nDR\\nDR\\nCR\\nCR\\nDR\\nCR\\nCR\\nDR\\nDR\\nDR\\nDR...   \n",
       "3                                                      \n",
       "\n",
       "                                                   6  \\\n",
       "0                                            Balance   \n",
       "1                                           25184.55   \n",
       "2  10753.03\\n10458.03\\n10372.28\\n13572.28\\n16572....   \n",
       "3                                                      \n",
       "\n",
       "                                                   7 8  \n",
       "0                                        Branch Name    \n",
       "1                                                       \n",
       "2  ZAMROODPUR\\nDEL DL\\nDATA CENTRE-\\nCHEMBUR\\nZAM...    \n",
       "3                                                       "
      ]
     },
     "execution_count": 38,
     "metadata": {},
     "output_type": "execute_result"
    }
   ],
   "source": [
    "tmp"
   ]
  },
  {
   "cell_type": "code",
   "execution_count": 47,
   "metadata": {},
   "outputs": [],
   "source": [
    "tmp.to_csv(\"parsed.csv\", index=0)"
   ]
  },
  {
   "cell_type": "code",
   "execution_count": null,
   "metadata": {},
   "outputs": [],
   "source": []
  },
  {
   "cell_type": "code",
   "execution_count": null,
   "metadata": {},
   "outputs": [],
   "source": []
  },
  {
   "cell_type": "code",
   "execution_count": null,
   "metadata": {},
   "outputs": [],
   "source": []
  },
  {
   "cell_type": "code",
   "execution_count": null,
   "metadata": {},
   "outputs": [],
   "source": []
  },
  {
   "cell_type": "code",
   "execution_count": null,
   "metadata": {},
   "outputs": [],
   "source": []
  },
  {
   "cell_type": "code",
   "execution_count": null,
   "metadata": {},
   "outputs": [],
   "source": []
  },
  {
   "cell_type": "code",
   "execution_count": null,
   "metadata": {},
   "outputs": [],
   "source": [
    "import pandas as pd\n",
    "import tabula\n",
    "import camelot\n",
    "import numpy as np\n",
    "\n",
    "try:\n",
    "    tables=camelot.read_pdf(\"axis05.pdf\",flavor='stream' ,pages = \"all\")\n",
    "             \n",
    "    if len(tables) !=0 :\n",
    "        df=pd.DataFrame();    tmp=pd.DataFrame(); \n",
    "        for i in range(len(tables)) :\n",
    "            tmp=tables[i].df  \n",
    "            if (tmp.shape[1] == 6 ):\n",
    "                df=pd.concat([df,tmp]).drop_duplicates(keep='first').reset_index(drop=True)\n",
    "            elif (tmp.shape[1] == 7):\n",
    "                tmp.drop(tmp.columns[[1]], axis=1, inplace=True)\n",
    "                tmp.columns = [0,1,2,3,4,5]\n",
    "                df=pd.concat([df,tmp]).drop_duplicates(keep='first').reset_index(drop=True)\n",
    "            else:\n",
    "                print(tmp.shape[1])\n",
    "                print(\"\\n different structure on page:\",i); #log.write(\"\\n different structure\")        \n",
    "except:\n",
    "    pass\n",
    "\n",
    "try:\n",
    "    df.replace(to_replace = '', value =np.nan,inplace=True)\n",
    "except:pass"
   ]
  },
  {
   "cell_type": "code",
   "execution_count": null,
   "metadata": {},
   "outputs": [],
   "source": [
    "df.head()"
   ]
  },
  {
   "cell_type": "code",
   "execution_count": null,
   "metadata": {},
   "outputs": [],
   "source": [
    "try:\n",
    "    idx=[ c for c in df[df.apply(lambda row: row.astype(str).str.lower().str.contains('balance').any(), axis=1) ==True].index if c in df[df.apply(lambda row: row.astype(str).str.lower().str.contains('date').any(), axis=1) ==True].index ][0]\n",
    "    df.columns=df.iloc[idx] ; df=df.iloc[idx+1:,:] ; df.reset_index(drop=True,inplace=True)\n",
    "except:\n",
    "    try:\n",
    "        idx=[ c for c in df[df.apply(lambda row: row.astype(str).str.lower().str.contains('balance').any(), axis=1) ==True].index if c in df[df.apply(lambda row: row.astype(str).str.lower().str.contains('particular').any(), axis=1) ==True].index ][0]\n",
    "        df.columns=df.iloc[idx] ; df=df.iloc[idx+1:,:] ; df.reset_index(drop=True,inplace=True)           \n",
    "    except:\n",
    "        print(\"\\nAxis-Column headers missing\"); pass"
   ]
  },
  {
   "cell_type": "code",
   "execution_count": null,
   "metadata": {},
   "outputs": [],
   "source": [
    "try:\n",
    "    df = df.drop([\"Init.\"], axis=1)\n",
    "except:\n",
    "    try:\n",
    "        df = df.drop([\"Branch Name\"], axis=1)\n",
    "    except:pass\n",
    "df.head()"
   ]
  },
  {
   "cell_type": "code",
   "execution_count": null,
   "metadata": {},
   "outputs": [],
   "source": [
    "df=df[~df.index.isin(df[df.apply(lambda row: row.astype(str).str.lower().str.contains('opening balance|transaction total|closing balance').any(), axis=1) ==True].index)]\n",
    "df.drop(df.nunique(dropna=False)[(df.nunique(dropna=False) == 1)].index, axis=1,inplace=True)\n",
    "df.head()"
   ]
  },
  {
   "cell_type": "code",
   "execution_count": null,
   "metadata": {},
   "outputs": [],
   "source": [
    "try:\n",
    "    narr=[n for n in df.columns if \"PARTICULARS\" in str(n).upper()][0]\n",
    "except:\n",
    "    try:\n",
    "        narr=[n for n in df.columns if \"NARRATION\" in str(n).upper()][0]\n",
    "    except:\n",
    "        try:\n",
    "            narr=[n for n in df.columns if \"DESCRIPTION\" in str(n).upper()][0] \n",
    "        except:\n",
    "            pass"
   ]
  },
  {
   "cell_type": "code",
   "execution_count": null,
   "metadata": {},
   "outputs": [],
   "source": [
    "df = df[pd.notnull(df[narr])]\n",
    "\n",
    "df.iloc[:,-1]=df.iloc[:,-1].fillna(df.iloc[:,-2])"
   ]
  },
  {
   "cell_type": "code",
   "execution_count": null,
   "metadata": {},
   "outputs": [],
   "source": [
    "df.head()"
   ]
  },
  {
   "cell_type": "code",
   "execution_count": null,
   "metadata": {},
   "outputs": [],
   "source": [
    "def abc(a):\n",
    "    if type(a) ==str:\n",
    "        if len(a.split(' '))==2:\n",
    "            z=a.split(' ')[1]\n",
    "        else:\n",
    "            z=a.split(' ')[0]\n",
    "    else :\n",
    "        z=a\n",
    "    return z\n",
    "\n",
    "try:\n",
    "    bal=[c for c in df.columns if \"BALANCE\" in str(c).upper()][0]\n",
    "    df[bal]=df[bal].apply(lambda x: abc(x))\n",
    "except:\n",
    "    print(\"\\nBalance Column Missing\")"
   ]
  },
  {
   "cell_type": "code",
   "execution_count": null,
   "metadata": {},
   "outputs": [],
   "source": [
    "df[\"flag\"]=df.iloc[:,-1].shift(1)\n",
    "df=df[~df.index.isin(df[df.iloc[:,-1]==df.iloc[:,-2]].index)]"
   ]
  },
  {
   "cell_type": "code",
   "execution_count": null,
   "metadata": {},
   "outputs": [],
   "source": [
    "df=df.T.drop_duplicates().T\n",
    "df[bal]=df[bal].apply(lambda x: str(x).replace(\",\",\"\").replace(\"(Cr)\",\"\").replace(\"(Dr)\",\"\")).astype(float)\n",
    "df[\"flag\"]=df.iloc[:,0].astype(str)+df[bal].astype(str)\n",
    "df[\"flag2\"]=np.arange(len(df))\n",
    "\n",
    "df.head()"
   ]
  },
  {
   "cell_type": "code",
   "execution_count": null,
   "metadata": {},
   "outputs": [],
   "source": [
    "df.loc[df[[\"flag\"]].duplicated(keep=False), 'flag'] = df[\"flag\"]+df[\"flag2\"].astype(str)\n",
    "df['flag']=df['flag'].apply(lambda row : np.nan if 'nannan' in row else row).fillna(method='bfill')"
   ]
  },
  {
   "cell_type": "code",
   "execution_count": null,
   "metadata": {},
   "outputs": [],
   "source": [
    "df.head()"
   ]
  },
  {
   "cell_type": "code",
   "execution_count": null,
   "metadata": {},
   "outputs": [],
   "source": [
    "df[narr]=df.groupby('flag')[narr].transform(lambda x:''.join(x))\n",
    "df.head()"
   ]
  },
  {
   "cell_type": "code",
   "execution_count": null,
   "metadata": {},
   "outputs": [],
   "source": [
    "df=df.drop_duplicates(['flag'],keep='last').iloc[0:,:-2].reset_index(drop=True)\n",
    "df.to_csv(\"parsed.csv\",index=0)"
   ]
  },
  {
   "cell_type": "code",
   "execution_count": null,
   "metadata": {},
   "outputs": [],
   "source": []
  },
  {
   "cell_type": "code",
   "execution_count": null,
   "metadata": {},
   "outputs": [],
   "source": [
    "try:\n",
    "    narr=[n for n in df.columns if \"PARTICULARS\" in str(n).upper()][0]\n",
    "    print(\"try1\")\n",
    "except:\n",
    "    try:\n",
    "        narr=[n for n in df.columns if \"NARRATION\" in str(n).upper()][0]\n",
    "    except:\n",
    "        try:\n",
    "            narr=[n for n in df.columns if \"DESCRIPTION\" in str(n).upper()][0] \n",
    "        except:\n",
    "            pass"
   ]
  },
  {
   "cell_type": "code",
   "execution_count": null,
   "metadata": {},
   "outputs": [],
   "source": [
    "df.reset_index(drop=True,inplace=True)\n",
    "df = df[pd.notnull(df[narr])]\n",
    "df.head()"
   ]
  },
  {
   "cell_type": "code",
   "execution_count": null,
   "metadata": {},
   "outputs": [],
   "source": [
    "try:\n",
    "    df = df.drop([\"Init.\"], axis=1)\n",
    "except:\n",
    "    try:\n",
    "        df = df.drop([\"Branch Name\"], axis=1)\n",
    "    except:pass\n",
    "df.head()"
   ]
  },
  {
   "cell_type": "code",
   "execution_count": null,
   "metadata": {},
   "outputs": [],
   "source": [
    "# df.replace(to_replace = '', value =np.nan,inplace=True)"
   ]
  },
  {
   "cell_type": "code",
   "execution_count": null,
   "metadata": {},
   "outputs": [],
   "source": [
    "# try:\n",
    "#     narr=[n for n in df.columns if \"PARTICULARS\" in str(n).upper()][0]\n",
    "#     print(\"try1\")\n",
    "# except:\n",
    "#     try:\n",
    "#         narr=[n for n in df.columns if \"NARRATION\" in str(n).upper()][0]\n",
    "#     except:\n",
    "#         try:\n",
    "#             narr=[n for n in df.columns if \"DESCRIPTION\" in str(n).upper()][0] \n",
    "#         except:\n",
    "#             pass"
   ]
  },
  {
   "cell_type": "code",
   "execution_count": null,
   "metadata": {},
   "outputs": [],
   "source": [
    "# df.reset_index(drop=True,inplace=True)\n",
    "# df = df[pd.notnull(df[narr])]\n",
    "# df.head()"
   ]
  },
  {
   "cell_type": "code",
   "execution_count": null,
   "metadata": {},
   "outputs": [],
   "source": [
    "df.iloc[:,-1]=df.iloc[:,-1].fillna(df.iloc[:,-2])"
   ]
  },
  {
   "cell_type": "code",
   "execution_count": null,
   "metadata": {},
   "outputs": [],
   "source": [
    "def abc(a):\n",
    "    if type(a) ==str:\n",
    "        if len(a.split(' '))==2:\n",
    "            z=a.split(' ')[1]\n",
    "        else:\n",
    "            z=a.split(' ')[0]\n",
    "    else :\n",
    "        z=a\n",
    "    return z\n",
    "\n",
    "try:\n",
    "    bal=[c for c in df.columns if \"BALANCE\" in str(c).upper()][0]\n",
    "    df[bal]=df[bal].apply(lambda x: abc(x))\n",
    "except:\n",
    "    print(\"\\nBalance Column Missing\")"
   ]
  },
  {
   "cell_type": "code",
   "execution_count": null,
   "metadata": {},
   "outputs": [],
   "source": [
    "df[\"flag\"]=df.iloc[:,-1].shift(1)\n",
    "df=df[~df.index.isin(df[df.iloc[:,-1]==df.iloc[:,-2]].index)]"
   ]
  },
  {
   "cell_type": "code",
   "execution_count": null,
   "metadata": {},
   "outputs": [],
   "source": [
    "df.head()"
   ]
  },
  {
   "cell_type": "code",
   "execution_count": null,
   "metadata": {},
   "outputs": [],
   "source": [
    "df.to_csv(\"dt2.csv\",index=0)"
   ]
  },
  {
   "cell_type": "code",
   "execution_count": null,
   "metadata": {},
   "outputs": [],
   "source": [
    "df=df.T.drop_duplicates().T\n",
    "try:\n",
    "    df[bal]=df[bal].apply(lambda x: str(x).replace(\",\",\"\").replace(\"(Cr)\",\"\").replace(\"(Dr)\",\"\")).astype(float)\n",
    "except:pass\n",
    "df[\"flag\"]=df.iloc[:,0].astype(str)+df[bal].astype(str)\n",
    "df[\"flag2\"]=np.arange(len(df))\n",
    "df.head()"
   ]
  },
  {
   "cell_type": "code",
   "execution_count": null,
   "metadata": {},
   "outputs": [],
   "source": [
    "# df.replace(to_replace = '', value =np.nan,inplace=True)"
   ]
  },
  {
   "cell_type": "code",
   "execution_count": null,
   "metadata": {},
   "outputs": [],
   "source": [
    "df.head()"
   ]
  },
  {
   "cell_type": "code",
   "execution_count": null,
   "metadata": {},
   "outputs": [],
   "source": [
    "df.loc[df[[\"flag\"]].duplicated(keep=False), 'flag'] = df[\"flag\"]+df[\"flag2\"].astype(str)\n"
   ]
  },
  {
   "cell_type": "code",
   "execution_count": null,
   "metadata": {},
   "outputs": [],
   "source": [
    "df.head()"
   ]
  },
  {
   "cell_type": "code",
   "execution_count": null,
   "metadata": {},
   "outputs": [],
   "source": [
    "df['flag']=df['flag'].apply(lambda row : np.nan if 'nannan' in row else row).fillna(method='bfill')"
   ]
  },
  {
   "cell_type": "code",
   "execution_count": null,
   "metadata": {},
   "outputs": [],
   "source": [
    "df.head()"
   ]
  },
  {
   "cell_type": "code",
   "execution_count": null,
   "metadata": {},
   "outputs": [],
   "source": [
    "for i in df[\"Particulars\"]:\n",
    "    print(i,\";\",type(i))"
   ]
  },
  {
   "cell_type": "code",
   "execution_count": null,
   "metadata": {},
   "outputs": [],
   "source": [
    "df[narr]=df.groupby('flag')[narr].transform(lambda x:''.join(x))\n",
    "df=df.drop_duplicates(['flag'],keep='last').iloc[0:,:-2].reset_index(drop=True)\n",
    "df.to_csv(\"parsed.csv\",index=0)"
   ]
  }
 ],
 "metadata": {
  "kernelspec": {
   "display_name": "Python 3",
   "language": "python",
   "name": "python3"
  },
  "language_info": {
   "codemirror_mode": {
    "name": "ipython",
    "version": 3
   },
   "file_extension": ".py",
   "mimetype": "text/x-python",
   "name": "python",
   "nbconvert_exporter": "python",
   "pygments_lexer": "ipython3",
   "version": "3.6.8"
  }
 },
 "nbformat": 4,
 "nbformat_minor": 4
}
