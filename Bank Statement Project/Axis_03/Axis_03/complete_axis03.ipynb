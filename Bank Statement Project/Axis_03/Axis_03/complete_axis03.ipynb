{
 "cells": [
  {
   "cell_type": "code",
   "execution_count": 24,
   "metadata": {},
   "outputs": [],
   "source": [
    "import pandas as pd\n",
    "import numpy as np\n",
    "import re\n",
    "import math\n",
    "import tabula\n",
    "import camelot\n",
    "import pdfminer\n",
    "from pdfminer.pdfinterp import PDFResourceManager, PDFPageInterpreter\n",
    "from pdfminer.converter import TextConverter\n",
    "from pdfminer.layout import LAParams\n",
    "from pdfminer.pdfpage import PDFPage\n",
    "try:\n",
    "    from cStringIO import StringIO\n",
    "except ImportError:\n",
    "    from io import StringIO \n",
    "import matplotlib.pyplot as plt"
   ]
  },
  {
   "cell_type": "code",
   "execution_count": 25,
   "metadata": {},
   "outputs": [
    {
     "name": "stderr",
     "output_type": "stream",
     "text": [
      "c:\\users\\mudracircle\\appdata\\local\\programs\\python\\python36\\lib\\site-packages\\pandas\\core\\frame.py:4117: SettingWithCopyWarning: \n",
      "A value is trying to be set on a copy of a slice from a DataFrame\n",
      "\n",
      "See the caveats in the documentation: http://pandas.pydata.org/pandas-docs/stable/user_guide/indexing.html#returning-a-view-versus-a-copy\n",
      "  errors=errors,\n"
     ]
    },
    {
     "name": "stdout",
     "output_type": "stream",
     "text": [
      "Completed 1\n",
      "Completed 2\n"
     ]
    }
   ],
   "source": [
    "tables=camelot.read_pdf(\"axis03.pdf\",flavor='stream' ,pages = \"all\",edge_tol=500)            \n",
    "if len(tables) !=0 :\n",
    "    df=pd.DataFrame();    tmp=pd.DataFrame(); \n",
    "    for i in range(len(tables)) :\n",
    "        tmp=tables[i].df\n",
    "        if (tmp.shape[1] <= 5):\n",
    "            pass\n",
    "        elif (tmp.shape[1] == 8):   \n",
    "            df=pd.concat([df,tmp]).drop_duplicates().reset_index(drop=True)\n",
    "        elif (tmp.shape[1] == 6):\n",
    "            try:\n",
    "                idx=[ c for c in tmp[tmp.apply(lambda row: row.astype(str).str.lower().str.contains('balance').any(), axis=1) ==True].index if c in tmp[tmp.apply(lambda row: row.astype(str).str.lower().str.contains('date').any(), axis=1) ==True].index ][0]\n",
    "            except:\n",
    "                try:\n",
    "                    idx=[ c for c in dt[dt.apply(lambda row: row.astype(str).str.lower().str.contains('balance').any(), axis=1) ==True].index if c in dt[dt.apply(lambda row: row.astype(str).str.lower().str.contains('particular').any(), axis=1) ==True].index ][0]\n",
    "                except:\n",
    "                    print(\"\\nAxis-Column headers missing\")\n",
    "            tmp.columns=tmp.iloc[idx] ; tmp=tmp.iloc[idx+1:,:] ; tmp.reset_index(drop=True,inplace=True) \n",
    "            tmp=tmp[~tmp.index.isin(tmp[tmp.apply(lambda row: row.astype(str).str.lower().str.contains('page:|account status|total|reason for return|inward clg|opening balance|statement of a/c').any(), axis=1) ==True].index)]\n",
    "            if tmp.columns[0] == 'Tran Date\\nValue Date\\nTransaction Particulars':\n",
    "                tmp.columns = [\"A\",\"B\",\"C\",\"D\",\"E\",\"F\"]\n",
    "                tmp.reset_index(drop = True, inplace=True)\n",
    "                tmp1 = pd.DataFrame(tmp.A.str.split('\\n',2).tolist(),columns=[\"Z1\", \"Z2\", \"Z3\"])\n",
    "                result = pd.concat([tmp1, tmp], axis=1, sort=False)\n",
    "                result.drop('A' ,axis=1, inplace=True)\n",
    "                result[\"Y\"] = result[\"Z1\"]\n",
    "                for i,j in enumerate(result[\"Y\"]):\n",
    "                    if re.search(r'(\\d+-\\d+-\\d+)',j):\n",
    "                        result.at[i, 'Y'] = \"\"\n",
    "                        pass\n",
    "                    elif re.search(r'^\\s*$',j):\n",
    "                        result.at[i, 'Y'] = \"\"\n",
    "                        pass\n",
    "                    else:\n",
    "                        pass\n",
    "                        \n",
    "                for i,j in enumerate(result[\"Z1\"]):\n",
    "                    if re.search(r'(\\d+-\\d+-\\d+)',j):\n",
    "                        pass\n",
    "                    elif re.search(r'^\\s*$',j):\n",
    "                        result.at[i, 'Z1'] = \"\"\n",
    "                        pass\n",
    "                    else:\n",
    "                        result.at[i, 'Z1'] = \"\"\n",
    "                        pass \n",
    "                result.fillna(value=pd.np.nan, inplace=True)\n",
    "                result['X'] = result['Z3'].fillna('') + result['Y'].fillna('')\n",
    "                result.drop(['Z3','Y'] ,axis=1, inplace=True)\n",
    "                result = result[['Z1', 'Z2', 'X', 'B', 'C','D','E','F']]\n",
    "                result.columns = [0,1,2,3,4,5,6,7]\n",
    "                df=pd.concat([df,result]).drop_duplicates().reset_index(drop=True)\n",
    "        else:\n",
    "            try:\n",
    "                try:\n",
    "                    idx=[ c for c in tmp[tmp.apply(lambda row: row.astype(str).str.lower().str.contains('balance').any(), axis=1) ==True].index if c in tmp[tmp.apply(lambda row: row.astype(str).str.lower().str.contains('date').any(), axis=1) ==True].index ][0]\n",
    "                    df.columns=df.iloc[idx] ; df=df.iloc[idx:,:] ; df.reset_index(drop=True,inplace=True)\n",
    "                except:\n",
    "                    try:\n",
    "                        idx=[ c for c in tmp[tmp.apply(lambda row: row.astype(str).str.lower().str.contains('balance').any(), axis=1) ==True].index if c in tmp[tmp.apply(lambda row: row.astype(str).str.lower().str.contains('particular').any(), axis=1) ==True].index ][0]\n",
    "                        tmp.columns=tmp.iloc[idx] ; tmp=tmp.iloc[idx:,:] ; tmp.reset_index(drop=True,inplace=True)           \n",
    "                    except:\n",
    "                        print(\"\\nAxis-Column headers missing\"); pass\n",
    "                tmp.drop(\"\",axis = 1,inplace = True)\n",
    "                tmp.columns = [0,1,2,3,4,5,6,7]\n",
    "                df=pd.concat([df,tmp]).drop_duplicates().reset_index(drop=True)\n",
    "            except:pass\n",
    "           \n",
    "    print(\"Completed 1\")\n",
    "print(\"Completed 2\")"
   ]
  },
  {
   "cell_type": "code",
   "execution_count": 3,
   "metadata": {},
   "outputs": [],
   "source": [
    "df.to_csv(\"parsed_01.csv\", index=0)"
   ]
  },
  {
   "cell_type": "code",
   "execution_count": 4,
   "metadata": {},
   "outputs": [
    {
     "data": {
      "text/html": [
       "<div>\n",
       "<style scoped>\n",
       "    .dataframe tbody tr th:only-of-type {\n",
       "        vertical-align: middle;\n",
       "    }\n",
       "\n",
       "    .dataframe tbody tr th {\n",
       "        vertical-align: top;\n",
       "    }\n",
       "\n",
       "    .dataframe thead th {\n",
       "        text-align: right;\n",
       "    }\n",
       "</style>\n",
       "<table border=\"1\" class=\"dataframe\">\n",
       "  <thead>\n",
       "    <tr style=\"text-align: right;\">\n",
       "      <th></th>\n",
       "      <th>0</th>\n",
       "      <th>1</th>\n",
       "      <th>2</th>\n",
       "      <th>3</th>\n",
       "      <th>4</th>\n",
       "      <th>5</th>\n",
       "      <th>6</th>\n",
       "      <th>7</th>\n",
       "    </tr>\n",
       "  </thead>\n",
       "  <tbody>\n",
       "    <tr>\n",
       "      <th>0</th>\n",
       "      <td>Tran Date</td>\n",
       "      <td>Value Date</td>\n",
       "      <td>Transaction Particulars</td>\n",
       "      <td>Chq No.</td>\n",
       "      <td>Amount</td>\n",
       "      <td>DR|CR</td>\n",
       "      <td>Balance</td>\n",
       "      <td>Branch Name</td>\n",
       "    </tr>\n",
       "    <tr>\n",
       "      <th>1</th>\n",
       "      <td></td>\n",
       "      <td></td>\n",
       "      <td>OPENING BALANCE :</td>\n",
       "      <td></td>\n",
       "      <td></td>\n",
       "      <td></td>\n",
       "      <td>25184.55</td>\n",
       "      <td></td>\n",
       "    </tr>\n",
       "    <tr>\n",
       "      <th>2</th>\n",
       "      <td></td>\n",
       "      <td></td>\n",
       "      <td></td>\n",
       "      <td></td>\n",
       "      <td></td>\n",
       "      <td></td>\n",
       "      <td></td>\n",
       "      <td>ATM</td>\n",
       "    </tr>\n",
       "    <tr>\n",
       "      <th>3</th>\n",
       "      <td>03-12-2018</td>\n",
       "      <td>03-12-2018</td>\n",
       "      <td>EDC/00049-00051-/M037011032984700</td>\n",
       "      <td></td>\n",
       "      <td>5053.95</td>\n",
       "      <td>CR</td>\n",
       "      <td>30238.50</td>\n",
       "      <td>RECONCILATION</td>\n",
       "    </tr>\n",
       "    <tr>\n",
       "      <th>4</th>\n",
       "      <td></td>\n",
       "      <td></td>\n",
       "      <td></td>\n",
       "      <td></td>\n",
       "      <td></td>\n",
       "      <td></td>\n",
       "      <td></td>\n",
       "      <td>CENTRE</td>\n",
       "    </tr>\n",
       "  </tbody>\n",
       "</table>\n",
       "</div>"
      ],
      "text/plain": [
       "            0           1                                  2        3  \\\n",
       "0   Tran Date  Value Date            Transaction Particulars  Chq No.   \n",
       "1                                          OPENING BALANCE :            \n",
       "2                                                                       \n",
       "3  03-12-2018  03-12-2018  EDC/00049-00051-/M037011032984700            \n",
       "4                                                                       \n",
       "\n",
       "         4      5         6              7  \n",
       "0   Amount  DR|CR   Balance    Branch Name  \n",
       "1                  25184.55                 \n",
       "2                                      ATM  \n",
       "3  5053.95     CR  30238.50  RECONCILATION  \n",
       "4                                   CENTRE  "
      ]
     },
     "execution_count": 4,
     "metadata": {},
     "output_type": "execute_result"
    }
   ],
   "source": [
    "df.head()"
   ]
  },
  {
   "cell_type": "code",
   "execution_count": 5,
   "metadata": {},
   "outputs": [
    {
     "name": "stdout",
     "output_type": "stream",
     "text": [
      "1st attempt\n"
     ]
    },
    {
     "data": {
      "text/html": [
       "<div>\n",
       "<style scoped>\n",
       "    .dataframe tbody tr th:only-of-type {\n",
       "        vertical-align: middle;\n",
       "    }\n",
       "\n",
       "    .dataframe tbody tr th {\n",
       "        vertical-align: top;\n",
       "    }\n",
       "\n",
       "    .dataframe thead th {\n",
       "        text-align: right;\n",
       "    }\n",
       "</style>\n",
       "<table border=\"1\" class=\"dataframe\">\n",
       "  <thead>\n",
       "    <tr style=\"text-align: right;\">\n",
       "      <th></th>\n",
       "      <th>Tran Date</th>\n",
       "      <th>Value Date</th>\n",
       "      <th>Transaction Particulars</th>\n",
       "      <th>Chq No.</th>\n",
       "      <th>Amount</th>\n",
       "      <th>DR|CR</th>\n",
       "      <th>Balance</th>\n",
       "      <th>Branch Name</th>\n",
       "    </tr>\n",
       "  </thead>\n",
       "  <tbody>\n",
       "    <tr>\n",
       "      <th>0</th>\n",
       "      <td></td>\n",
       "      <td></td>\n",
       "      <td>OPENING BALANCE :</td>\n",
       "      <td></td>\n",
       "      <td></td>\n",
       "      <td></td>\n",
       "      <td>25184.55</td>\n",
       "      <td></td>\n",
       "    </tr>\n",
       "    <tr>\n",
       "      <th>1</th>\n",
       "      <td></td>\n",
       "      <td></td>\n",
       "      <td></td>\n",
       "      <td></td>\n",
       "      <td></td>\n",
       "      <td></td>\n",
       "      <td></td>\n",
       "      <td>ATM</td>\n",
       "    </tr>\n",
       "    <tr>\n",
       "      <th>2</th>\n",
       "      <td>03-12-2018</td>\n",
       "      <td>03-12-2018</td>\n",
       "      <td>EDC/00049-00051-/M037011032984700</td>\n",
       "      <td></td>\n",
       "      <td>5053.95</td>\n",
       "      <td>CR</td>\n",
       "      <td>30238.50</td>\n",
       "      <td>RECONCILATION</td>\n",
       "    </tr>\n",
       "    <tr>\n",
       "      <th>3</th>\n",
       "      <td></td>\n",
       "      <td></td>\n",
       "      <td></td>\n",
       "      <td></td>\n",
       "      <td></td>\n",
       "      <td></td>\n",
       "      <td></td>\n",
       "      <td>CENTRE</td>\n",
       "    </tr>\n",
       "    <tr>\n",
       "      <th>4</th>\n",
       "      <td></td>\n",
       "      <td></td>\n",
       "      <td></td>\n",
       "      <td></td>\n",
       "      <td></td>\n",
       "      <td></td>\n",
       "      <td></td>\n",
       "      <td>ZAMROODPUR</td>\n",
       "    </tr>\n",
       "  </tbody>\n",
       "</table>\n",
       "</div>"
      ],
      "text/plain": [
       "0   Tran Date  Value Date            Transaction Particulars Chq No.   Amount  \\\n",
       "0                                          OPENING BALANCE :                    \n",
       "1                                                                               \n",
       "2  03-12-2018  03-12-2018  EDC/00049-00051-/M037011032984700          5053.95   \n",
       "3                                                                               \n",
       "4                                                                               \n",
       "\n",
       "0 DR|CR   Balance    Branch Name  \n",
       "0        25184.55                 \n",
       "1                            ATM  \n",
       "2    CR  30238.50  RECONCILATION  \n",
       "3                         CENTRE  \n",
       "4                     ZAMROODPUR  "
      ]
     },
     "execution_count": 5,
     "metadata": {},
     "output_type": "execute_result"
    }
   ],
   "source": [
    "try:\n",
    "    idx=[ c for c in df[df.apply(lambda row: row.astype(str).str.lower().str.contains('balance').any(), axis=1) ==True].index if c in df[df.apply(lambda row: row.astype(str).str.lower().str.contains('date').any(), axis=1) ==True].index ][0]\n",
    "    df.columns=df.iloc[idx] ; df=df.iloc[idx+1:,:] ; df.reset_index(drop=True,inplace=True)\n",
    "    print(\"1st attempt\")\n",
    "except:\n",
    "    try:\n",
    "        idx=[ c for c in df[df.apply(lambda row: row.astype(str).str.lower().str.contains('balance').any(), axis=1) ==True].index if c in df[df.apply(lambda row: row.astype(str).str.lower().str.contains('particular').any(), axis=1) ==True].index ][0]\n",
    "        df.columns=df.iloc[idx] ; df=df.iloc[idx+1:,:] ; df.reset_index(drop=True,inplace=True)           \n",
    "    except:\n",
    "        print(\"\\nAxis-Column headers missing\"); pass\n",
    "    \n",
    "df.head()"
   ]
  },
  {
   "cell_type": "code",
   "execution_count": 6,
   "metadata": {},
   "outputs": [],
   "source": [
    "df.to_csv(\"parsed_02.csv\", index=0)"
   ]
  },
  {
   "cell_type": "code",
   "execution_count": 7,
   "metadata": {},
   "outputs": [],
   "source": [
    "try:\n",
    "    df = df.drop([\"Init.\"], axis=1)\n",
    "except:\n",
    "    try:\n",
    "        df = df.drop([\"Branch Name\"], axis=1)\n",
    "    except:pass\n",
    "    \n",
    "df=df[~df.index.isin(df[df.apply(lambda row: row.astype(str).str.lower().str.contains('opening balance|transaction total|closing balance').any(), axis=1) ==True].index)]\n",
    "df.drop(df.nunique(dropna=False)[(df.nunique(dropna=False) == 1)].index, axis=1,inplace=True)\n",
    "\n",
    "def abc(a):\n",
    "    if type(a) ==str:\n",
    "        if len(a.split(' '))==2:\n",
    "            z=a.split(' ')[1]\n",
    "        else:\n",
    "            z=a.split(' ')[0]\n",
    "    else :\n",
    "        z=a\n",
    "    return z\n",
    "\n",
    "try:\n",
    "    bal=[c for c in df.columns if \"BALANCE\" in str(c).upper()][0]\n",
    "    df[bal]=df[bal].apply(lambda x: abc(x))\n",
    "except:\n",
    "    print(\"\\nBalance Column Missing\")"
   ]
  },
  {
   "cell_type": "code",
   "execution_count": 8,
   "metadata": {},
   "outputs": [
    {
     "data": {
      "text/html": [
       "<div>\n",
       "<style scoped>\n",
       "    .dataframe tbody tr th:only-of-type {\n",
       "        vertical-align: middle;\n",
       "    }\n",
       "\n",
       "    .dataframe tbody tr th {\n",
       "        vertical-align: top;\n",
       "    }\n",
       "\n",
       "    .dataframe thead th {\n",
       "        text-align: right;\n",
       "    }\n",
       "</style>\n",
       "<table border=\"1\" class=\"dataframe\">\n",
       "  <thead>\n",
       "    <tr style=\"text-align: right;\">\n",
       "      <th></th>\n",
       "      <th>Tran Date</th>\n",
       "      <th>Value Date</th>\n",
       "      <th>Transaction Particulars</th>\n",
       "      <th>Chq No.</th>\n",
       "      <th>Amount</th>\n",
       "      <th>DR|CR</th>\n",
       "      <th>Balance</th>\n",
       "    </tr>\n",
       "  </thead>\n",
       "  <tbody>\n",
       "    <tr>\n",
       "      <th>1</th>\n",
       "      <td></td>\n",
       "      <td></td>\n",
       "      <td></td>\n",
       "      <td></td>\n",
       "      <td></td>\n",
       "      <td></td>\n",
       "      <td></td>\n",
       "    </tr>\n",
       "    <tr>\n",
       "      <th>2</th>\n",
       "      <td>03-12-2018</td>\n",
       "      <td>03-12-2018</td>\n",
       "      <td>EDC/00049-00051-/M037011032984700</td>\n",
       "      <td></td>\n",
       "      <td>5053.95</td>\n",
       "      <td>CR</td>\n",
       "      <td>30238.50</td>\n",
       "    </tr>\n",
       "    <tr>\n",
       "      <th>3</th>\n",
       "      <td></td>\n",
       "      <td></td>\n",
       "      <td></td>\n",
       "      <td></td>\n",
       "      <td></td>\n",
       "      <td></td>\n",
       "      <td></td>\n",
       "    </tr>\n",
       "    <tr>\n",
       "      <th>4</th>\n",
       "      <td></td>\n",
       "      <td></td>\n",
       "      <td></td>\n",
       "      <td></td>\n",
       "      <td></td>\n",
       "      <td></td>\n",
       "      <td></td>\n",
       "    </tr>\n",
       "    <tr>\n",
       "      <th>5</th>\n",
       "      <td>06-12-2018</td>\n",
       "      <td>06-12-2018</td>\n",
       "      <td>ECOM PUR/PTM*PAYTM/NOIDA/061218/09:18</td>\n",
       "      <td></td>\n",
       "      <td>7853.25</td>\n",
       "      <td>DR</td>\n",
       "      <td>22385.25</td>\n",
       "    </tr>\n",
       "  </tbody>\n",
       "</table>\n",
       "</div>"
      ],
      "text/plain": [
       "0   Tran Date  Value Date                Transaction Particulars Chq No.  \\\n",
       "1                                                                          \n",
       "2  03-12-2018  03-12-2018      EDC/00049-00051-/M037011032984700           \n",
       "3                                                                          \n",
       "4                                                                          \n",
       "5  06-12-2018  06-12-2018  ECOM PUR/PTM*PAYTM/NOIDA/061218/09:18           \n",
       "\n",
       "0   Amount DR|CR   Balance  \n",
       "1                           \n",
       "2  5053.95    CR  30238.50  \n",
       "3                           \n",
       "4                           \n",
       "5  7853.25    DR  22385.25  "
      ]
     },
     "execution_count": 8,
     "metadata": {},
     "output_type": "execute_result"
    }
   ],
   "source": [
    "df.head()"
   ]
  },
  {
   "cell_type": "code",
   "execution_count": 9,
   "metadata": {},
   "outputs": [],
   "source": [
    "df.to_csv(\"parsed_03.csv\", index=0)"
   ]
  },
  {
   "cell_type": "code",
   "execution_count": 10,
   "metadata": {},
   "outputs": [],
   "source": [
    "df.replace(r'^\\s*$', np.nan, regex=True, inplace = True)"
   ]
  },
  {
   "cell_type": "code",
   "execution_count": 11,
   "metadata": {},
   "outputs": [
    {
     "data": {
      "text/plain": [
       "float"
      ]
     },
     "execution_count": 11,
     "metadata": {},
     "output_type": "execute_result"
    }
   ],
   "source": [
    "type(df[\"Transaction Particulars\"][15])"
   ]
  },
  {
   "cell_type": "code",
   "execution_count": 12,
   "metadata": {},
   "outputs": [],
   "source": [
    "# df.head(16)"
   ]
  },
  {
   "cell_type": "code",
   "execution_count": 13,
   "metadata": {},
   "outputs": [],
   "source": [
    "df.dropna(axis=0, how='all',inplace=True)"
   ]
  },
  {
   "cell_type": "code",
   "execution_count": 14,
   "metadata": {},
   "outputs": [
    {
     "data": {
      "text/html": [
       "<div>\n",
       "<style scoped>\n",
       "    .dataframe tbody tr th:only-of-type {\n",
       "        vertical-align: middle;\n",
       "    }\n",
       "\n",
       "    .dataframe tbody tr th {\n",
       "        vertical-align: top;\n",
       "    }\n",
       "\n",
       "    .dataframe thead th {\n",
       "        text-align: right;\n",
       "    }\n",
       "</style>\n",
       "<table border=\"1\" class=\"dataframe\">\n",
       "  <thead>\n",
       "    <tr style=\"text-align: right;\">\n",
       "      <th></th>\n",
       "      <th>Tran Date</th>\n",
       "      <th>Value Date</th>\n",
       "      <th>Transaction Particulars</th>\n",
       "      <th>Chq No.</th>\n",
       "      <th>Amount</th>\n",
       "      <th>DR|CR</th>\n",
       "      <th>Balance</th>\n",
       "    </tr>\n",
       "  </thead>\n",
       "  <tbody>\n",
       "    <tr>\n",
       "      <th>2</th>\n",
       "      <td>03-12-2018</td>\n",
       "      <td>03-12-2018</td>\n",
       "      <td>EDC/00049-00051-/M037011032984700</td>\n",
       "      <td>NaN</td>\n",
       "      <td>5053.95</td>\n",
       "      <td>CR</td>\n",
       "      <td>30238.50</td>\n",
       "    </tr>\n",
       "    <tr>\n",
       "      <th>5</th>\n",
       "      <td>06-12-2018</td>\n",
       "      <td>06-12-2018</td>\n",
       "      <td>ECOM PUR/PTM*PAYTM/NOIDA/061218/09:18</td>\n",
       "      <td>NaN</td>\n",
       "      <td>7853.25</td>\n",
       "      <td>DR</td>\n",
       "      <td>22385.25</td>\n",
       "    </tr>\n",
       "    <tr>\n",
       "      <th>7</th>\n",
       "      <td>07-12-2018</td>\n",
       "      <td>07-12-2018</td>\n",
       "      <td>IMPS/P2A/834111246344/50100096080290HDFC0004108/</td>\n",
       "      <td>NaN</td>\n",
       "      <td>12005.90</td>\n",
       "      <td>DR</td>\n",
       "      <td>10379.35</td>\n",
       "    </tr>\n",
       "    <tr>\n",
       "      <th>8</th>\n",
       "      <td>07-12-2018</td>\n",
       "      <td>07-12-2018</td>\n",
       "      <td>UPI/P2A/834184872222/YBL5e634a07d3c24593ba2586b7</td>\n",
       "      <td>NaN</td>\n",
       "      <td>1700.00</td>\n",
       "      <td>CR</td>\n",
       "      <td>12079.35</td>\n",
       "    </tr>\n",
       "    <tr>\n",
       "      <th>9</th>\n",
       "      <td>14-12-2018</td>\n",
       "      <td>14-12-2018</td>\n",
       "      <td>ECOM PUR/One97 Communi/Noida/141218/12:02</td>\n",
       "      <td>NaN</td>\n",
       "      <td>480.00</td>\n",
       "      <td>DR</td>\n",
       "      <td>11599.35</td>\n",
       "    </tr>\n",
       "  </tbody>\n",
       "</table>\n",
       "</div>"
      ],
      "text/plain": [
       "0   Tran Date  Value Date                           Transaction Particulars  \\\n",
       "2  03-12-2018  03-12-2018                 EDC/00049-00051-/M037011032984700   \n",
       "5  06-12-2018  06-12-2018             ECOM PUR/PTM*PAYTM/NOIDA/061218/09:18   \n",
       "7  07-12-2018  07-12-2018  IMPS/P2A/834111246344/50100096080290HDFC0004108/   \n",
       "8  07-12-2018  07-12-2018  UPI/P2A/834184872222/YBL5e634a07d3c24593ba2586b7   \n",
       "9  14-12-2018  14-12-2018         ECOM PUR/One97 Communi/Noida/141218/12:02   \n",
       "\n",
       "0 Chq No.    Amount DR|CR   Balance  \n",
       "2     NaN   5053.95    CR  30238.50  \n",
       "5     NaN   7853.25    DR  22385.25  \n",
       "7     NaN  12005.90    DR  10379.35  \n",
       "8     NaN   1700.00    CR  12079.35  \n",
       "9     NaN    480.00    DR  11599.35  "
      ]
     },
     "execution_count": 14,
     "metadata": {},
     "output_type": "execute_result"
    }
   ],
   "source": [
    "df.head()"
   ]
  },
  {
   "cell_type": "code",
   "execution_count": 15,
   "metadata": {},
   "outputs": [],
   "source": [
    "df.reset_index(drop=True,inplace=True)"
   ]
  },
  {
   "cell_type": "code",
   "execution_count": 16,
   "metadata": {},
   "outputs": [],
   "source": [
    "df.to_csv(\"parsed_04.csv\", index=0)"
   ]
  },
  {
   "cell_type": "code",
   "execution_count": 17,
   "metadata": {},
   "outputs": [],
   "source": [
    "def isnan(value):\n",
    "    try:\n",
    "        import math\n",
    "        return math.isnan(float(value))\n",
    "    except:\n",
    "        return False"
   ]
  },
  {
   "cell_type": "code",
   "execution_count": 18,
   "metadata": {},
   "outputs": [],
   "source": [
    "for j,i in enumerate(df[\"Transaction Particulars\"]):\n",
    "    if isnan(i) == True:\n",
    "        df[\"Transaction Particulars\"][j] = df[\"Transaction Particulars\"][j-1]+df[\"Transaction Particulars\"][j+1]\n",
    "    else:\n",
    "        pass"
   ]
  },
  {
   "cell_type": "code",
   "execution_count": 22,
   "metadata": {},
   "outputs": [],
   "source": [
    "try:\n",
    "    df.dropna(subset=['Tran Date'], inplace = True)\n",
    "except:\n",
    "    df.dropna(subset=['Value Date'], inplace = True)"
   ]
  },
  {
   "cell_type": "code",
   "execution_count": 23,
   "metadata": {},
   "outputs": [],
   "source": [
    "df.to_csv(\"parsed_05.csv\",index=0)"
   ]
  },
  {
   "cell_type": "code",
   "execution_count": null,
   "metadata": {},
   "outputs": [],
   "source": []
  },
  {
   "cell_type": "code",
   "execution_count": null,
   "metadata": {},
   "outputs": [],
   "source": []
  },
  {
   "cell_type": "code",
   "execution_count": null,
   "metadata": {},
   "outputs": [],
   "source": [
    "df = df.dropna(how='all',axis=0)\n",
    "df = df.reset_index(drop=True)"
   ]
  },
  {
   "cell_type": "code",
   "execution_count": null,
   "metadata": {},
   "outputs": [],
   "source": [
    "df.to_csv(\"parsed.csv\", index=0)"
   ]
  },
  {
   "cell_type": "code",
   "execution_count": null,
   "metadata": {},
   "outputs": [],
   "source": []
  }
 ],
 "metadata": {
  "kernelspec": {
   "display_name": "Python 3",
   "language": "python",
   "name": "python3"
  },
  "language_info": {
   "codemirror_mode": {
    "name": "ipython",
    "version": 3
   },
   "file_extension": ".py",
   "mimetype": "text/x-python",
   "name": "python",
   "nbconvert_exporter": "python",
   "pygments_lexer": "ipython3",
   "version": "3.6.8"
  }
 },
 "nbformat": 4,
 "nbformat_minor": 4
}
