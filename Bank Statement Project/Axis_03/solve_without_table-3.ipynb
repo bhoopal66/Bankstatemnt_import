{
 "cells": [
  {
   "cell_type": "code",
   "execution_count": 1,
   "metadata": {},
   "outputs": [],
   "source": [
    "import pandas as pd\n",
    "import numpy as np\n",
    "import re\n",
    "import tabula\n",
    "import camelot\n",
    "import pdfminer\n",
    "from pdfminer.pdfinterp import PDFResourceManager, PDFPageInterpreter\n",
    "from pdfminer.converter import TextConverter\n",
    "from pdfminer.layout import LAParams\n",
    "from pdfminer.pdfpage import PDFPage\n",
    "try:\n",
    "    from cStringIO import StringIO\n",
    "except ImportError:\n",
    "    from io import StringIO \n",
    "import matplotlib.pyplot as plt"
   ]
  },
  {
   "cell_type": "markdown",
   "metadata": {},
   "source": [
    "# **********************************************************************"
   ]
  },
  {
   "cell_type": "code",
   "execution_count": 2,
   "metadata": {},
   "outputs": [
    {
     "name": "stdout",
     "output_type": "stream",
     "text": [
      "Completed 1\n",
      "Completed2\n"
     ]
    }
   ],
   "source": [
    "tables=camelot.read_pdf(\"axis03.pdf\",flavor='stream' ,pages = \"all\",edge_tol=500)            \n",
    "if len(tables) !=0 :\n",
    "    df=pd.DataFrame();    tmp=pd.DataFrame(); \n",
    "    for i in range(len(tables)) :\n",
    "        tmp=tables[i].df\n",
    "        if (tmp.shape[1] == 8):   \n",
    "            df=pd.concat([df,tmp]).drop_duplicates(keep='first').reset_index(drop=True)\n",
    "        elif (tmp.shape[1] == 6):\n",
    "            tmp=tables[2].df\n",
    "            idx=[ c for c in tmp[tmp.apply(lambda row: row.astype(str).str.lower().str.contains('balance').any(), axis=1) ==True].index if c in tmp[tmp.apply(lambda row: row.astype(str).str.lower().str.contains('date').any(), axis=1) ==True].index ][0]\n",
    "            tmp.columns=tmp.iloc[idx] ; tmp=tmp.iloc[idx+1:,:] ; tmp.reset_index(drop=True,inplace=True) \n",
    "            tmp=tmp[~tmp.index.isin(tmp[tmp.apply(lambda row: row.astype(str).str.lower().str.contains('page:|account status|total|reason for return|inward clg|opening balance|statement of a/c').any(), axis=1) ==True].index)]\n",
    "            tmp.columns = [\"A\",\"B\",\"C\",\"D\",\"E\",\"F\"]\n",
    "            tmp.reset_index(drop = True, inplace=True)\n",
    "            tmp1 = pd.DataFrame(tmp.A.str.split('\\n',2).tolist(),columns=[\"Z1\", \"Z2\", \"Z3\"])\n",
    "            result = pd.concat([tmp1, tmp], axis=1, sort=False)\n",
    "            result.drop('A' ,axis=1, inplace=True)\n",
    "            result[\"xx\"] = result[\"Z1\"]\n",
    "            for i,j in enumerate(result[\"xx\"]):\n",
    "                if re.search(r'(\\d+-\\d+-\\d+)',j):\n",
    "                    result.at[i, 'xx'] = \"\"\n",
    "                    pass\n",
    "                elif re.search(r'^\\s*$',j):\n",
    "                    result.at[i, 'xx'] = \"\"\n",
    "                    pass\n",
    "                else:\n",
    "                    pass\n",
    "                    \n",
    "            for i,j in enumerate(result[\"Z1\"]):\n",
    "                if re.search(r'(\\d+-\\d+-\\d+)',j):\n",
    "                    pass\n",
    "                elif re.search(r'^\\s*$',j):\n",
    "                    result.at[i, 'Z1'] = \"\"\n",
    "                    pass\n",
    "                else:\n",
    "                    result.at[i, 'Z1'] = \"\"\n",
    "                    pass \n",
    "            result.fillna(value=pd.np.nan, inplace=True)\n",
    "            result['X'] = result['Z3'].fillna('') + result['xx'].fillna('')\n",
    "            result.drop(['Z3','xx'] ,axis=1, inplace=True)\n",
    "            result = result[['Z1', 'Z2', 'X', 'B', 'C','D','E','F']]\n",
    "            result.columns = [0,1,2,3,4,5,6,7]\n",
    "            df=pd.concat([df,result]).drop_duplicates(keep='first').reset_index(drop=True)\n",
    "            \n",
    "    print(\"Completed 1\")\n",
    "print(\"Completed2\")"
   ]
  },
  {
   "cell_type": "code",
   "execution_count": 3,
   "metadata": {},
   "outputs": [],
   "source": [
    "df.to_csv(\"final_axis03.csv\", index=0)"
   ]
  },
  {
   "cell_type": "markdown",
   "metadata": {},
   "source": [
    "# **********************************************************************"
   ]
  },
  {
   "cell_type": "code",
   "execution_count": null,
   "metadata": {},
   "outputs": [],
   "source": []
  },
  {
   "cell_type": "code",
   "execution_count": null,
   "metadata": {},
   "outputs": [],
   "source": []
  },
  {
   "cell_type": "code",
   "execution_count": 2,
   "metadata": {},
   "outputs": [],
   "source": [
    "tables=camelot.read_pdf(\"axis03.pdf\",flavor='stream' ,pages = \"all\",edge_tol=500)            \n",
    "if len(tables) !=0 :\n",
    "    df=pd.DataFrame();    tmp=pd.DataFrame(); \n",
    "    for i in range(len(tables)) :\n",
    "        tmp=tables[i].df  \n",
    "        df=pd.concat([df,tmp]).drop_duplicates(keep='first').reset_index(drop=True)"
   ]
  },
  {
   "cell_type": "code",
   "execution_count": 3,
   "metadata": {},
   "outputs": [],
   "source": [
    "tmp=tables[2].df"
   ]
  },
  {
   "cell_type": "code",
   "execution_count": 4,
   "metadata": {},
   "outputs": [
    {
     "name": "stdout",
     "output_type": "stream",
     "text": [
      "Columns: Index(['Tran Date\\nValue Date\\nTransaction Particulars', 'Chq No.', 'Amount',\n",
      "       'DR|CR', 'Balance', 'Branch Name'],\n",
      "      dtype='object', name=0)\n"
     ]
    }
   ],
   "source": [
    "idx=[ c for c in tmp[tmp.apply(lambda row: row.astype(str).str.lower().str.contains('balance').any(), axis=1) ==True].index if c in tmp[tmp.apply(lambda row: row.astype(str).str.lower().str.contains('date').any(), axis=1) ==True].index ][0]\n",
    "tmp.columns=tmp.iloc[idx] ; tmp=tmp.iloc[idx+1:,:] ; tmp.reset_index(drop=True,inplace=True) \n",
    "print(\"Columns:\",tmp.columns)\n",
    "\n",
    "tmp=tmp[~tmp.index.isin(tmp[tmp.apply(lambda row: row.astype(str).str.lower().str.contains('page:|account status|total|reason for return|inward clg|opening balance|statement of a/c').any(), axis=1) ==True].index)]\n",
    "tmp=pd.DataFrame(tmp.T.drop_duplicates().T)"
   ]
  },
  {
   "cell_type": "code",
   "execution_count": 5,
   "metadata": {},
   "outputs": [],
   "source": [
    "tmp.columns = [\"A\",\"B\",\"C\",\"D\",\"E\",\"F\"]"
   ]
  },
  {
   "cell_type": "code",
   "execution_count": 6,
   "metadata": {},
   "outputs": [],
   "source": [
    "tmp.reset_index(drop = True, inplace=True)"
   ]
  },
  {
   "cell_type": "code",
   "execution_count": 7,
   "metadata": {},
   "outputs": [],
   "source": [
    "tmp1 = pd.DataFrame(tmp.A.str.split('\\n',2).tolist(),columns=[\"Z1\", \"Z2\", \"Z3\"])"
   ]
  },
  {
   "cell_type": "code",
   "execution_count": 8,
   "metadata": {},
   "outputs": [],
   "source": [
    "result = pd.concat([tmp1, tmp], axis=1, sort=False)"
   ]
  },
  {
   "cell_type": "code",
   "execution_count": 9,
   "metadata": {},
   "outputs": [],
   "source": [
    "result.drop('A' ,axis=1, inplace=True)"
   ]
  },
  {
   "cell_type": "code",
   "execution_count": 10,
   "metadata": {},
   "outputs": [],
   "source": [
    "result[\"xx\"] = result[\"Z1\"]"
   ]
  },
  {
   "cell_type": "code",
   "execution_count": 11,
   "metadata": {},
   "outputs": [],
   "source": [
    "result.to_csv(\"result.csv\", index=0)"
   ]
  },
  {
   "cell_type": "code",
   "execution_count": 12,
   "metadata": {},
   "outputs": [
    {
     "name": "stdout",
     "output_type": "stream",
     "text": [
      "BY CASH DEPOSIT-\n",
      "BNA/DPRH329801/6971/170119/SOUTH D\n",
      "BY CASH DEPOSIT-\n",
      "BNA/DPRH329801/8113/230119/SOUTH D\n",
      "BY CASH DEPOSIT-\n",
      "BNA/DPRH329801/8115/230119/SOUTH D\n",
      "BY CASH DEPOSIT-\n",
      "BNA/DPRH329801/8913/280119/SOUTH D\n"
     ]
    }
   ],
   "source": [
    "for i,j in enumerate(result[\"xx\"]):\n",
    "    if re.search(r'(\\d+-\\d+-\\d+)',j):\n",
    "        result.at[i, 'xx'] = \"\"\n",
    "        pass\n",
    "    elif re.search(r'^\\s*$',j):\n",
    "        result.at[i, 'xx'] = \"\"\n",
    "        pass\n",
    "    else:\n",
    "        print(j)\n",
    "        \n",
    "for i,j in enumerate(result[\"Z1\"]):\n",
    "    if re.search(r'(\\d+-\\d+-\\d+)',j):\n",
    "        pass\n",
    "    elif re.search(r'^\\s*$',j):\n",
    "        result.at[i, 'Z1'] = \"\"\n",
    "        pass\n",
    "    else:\n",
    "        result.at[i, 'Z1'] = \"\"\n",
    "        pass "
   ]
  },
  {
   "cell_type": "code",
   "execution_count": 13,
   "metadata": {},
   "outputs": [],
   "source": [
    "# result"
   ]
  },
  {
   "cell_type": "code",
   "execution_count": 14,
   "metadata": {},
   "outputs": [],
   "source": [
    "result.fillna(value=pd.np.nan, inplace=True)"
   ]
  },
  {
   "cell_type": "code",
   "execution_count": 15,
   "metadata": {},
   "outputs": [],
   "source": [
    "result['X'] = result['Z3'].fillna('') + result['xx'].fillna('')"
   ]
  },
  {
   "cell_type": "code",
   "execution_count": 16,
   "metadata": {},
   "outputs": [],
   "source": [
    "# result.to_csv(\"result.csv\",index=0)"
   ]
  },
  {
   "cell_type": "code",
   "execution_count": 17,
   "metadata": {},
   "outputs": [],
   "source": [
    "result.drop(['Z3','xx'] ,axis=1, inplace=True)"
   ]
  },
  {
   "cell_type": "code",
   "execution_count": 18,
   "metadata": {},
   "outputs": [],
   "source": [
    "result.to_csv(\"result.csv\",index=0)"
   ]
  },
  {
   "cell_type": "code",
   "execution_count": 24,
   "metadata": {},
   "outputs": [],
   "source": [
    "result = result[['Z1', 'Z2', 'X', 'B', 'C','D','E','F']]\n",
    "result.to_csv(\"result.csv\",index=0)"
   ]
  },
  {
   "cell_type": "code",
   "execution_count": 25,
   "metadata": {},
   "outputs": [],
   "source": [
    "result.columns = [\"Tran Date\",\"Value Date\",\"Transaction Particulars\",\"Chq No\",\"Amount\",\"DR|CR\",\"Balance\",\"Branch Name\"]"
   ]
  },
  {
   "cell_type": "code",
   "execution_count": 26,
   "metadata": {},
   "outputs": [],
   "source": [
    "result.to_csv(\"result.csv\",index=0)"
   ]
  },
  {
   "cell_type": "code",
   "execution_count": null,
   "metadata": {},
   "outputs": [],
   "source": []
  }
 ],
 "metadata": {
  "kernelspec": {
   "display_name": "Python 3",
   "language": "python",
   "name": "python3"
  },
  "language_info": {
   "codemirror_mode": {
    "name": "ipython",
    "version": 3
   },
   "file_extension": ".py",
   "mimetype": "text/x-python",
   "name": "python",
   "nbconvert_exporter": "python",
   "pygments_lexer": "ipython3",
   "version": "3.6.8"
  }
 },
 "nbformat": 4,
 "nbformat_minor": 4
}
