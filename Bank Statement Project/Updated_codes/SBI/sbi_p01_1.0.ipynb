{
 "cells": [
  {
   "cell_type": "code",
   "execution_count": 9,
   "metadata": {},
   "outputs": [],
   "source": [
    "import pandas as pd\n",
    "import numpy as np\n",
    "import re\n",
    "import math\n",
    "import tabula\n",
    "import camelot\n",
    "import pdfminer\n",
    "from pdfminer.pdfinterp import PDFResourceManager, PDFPageInterpreter\n",
    "from pdfminer.converter import TextConverter\n",
    "from pdfminer.layout import LAParams\n",
    "from pdfminer.pdfpage import PDFPage\n",
    "try:\n",
    "    from cStringIO import StringIO\n",
    "except ImportError:\n",
    "    from io import StringIO \n",
    "import matplotlib.pyplot as plt "
   ]
  },
  {
   "cell_type": "code",
   "execution_count": 53,
   "metadata": {
    "scrolled": true
   },
   "outputs": [
    {
     "name": "stdout",
     "output_type": "stream",
     "text": [
      "Parsed\n"
     ]
    }
   ],
   "source": [
    "def Sbi_tab(f):\n",
    "    try:\n",
    "        tables=tabula.read_pdf(f,\n",
    "                                  lattice=True,\n",
    "                                  pages=\"all\",\n",
    "                                  silent=True,\n",
    "                                  multiple_tables=True,\n",
    "                                  pandas_options={'header':None})\n",
    "        df = pd.DataFrame()\n",
    "        df = pd.concat([c for c in tables]).drop_duplicates()\n",
    "    except: pass\n",
    "    return df\n",
    "\n",
    "def Sbi_process(df):\n",
    "    df = df.replace(r'^\\s*$', np.nan, regex=True)\n",
    "    df=df[ df.isnull().sum(axis=1) < df.shape[1]-2].reset_index(drop=True)\n",
    "    try:\n",
    "        idx=[c for c in df[df.apply(lambda row:row.astype(str).str.lower().str.contains('balance').any(),axis=1)==True].index if c in df[df.apply(lambda row:row.astype(str).str.lower().str.contains('date').any(),axis=1)==True].index][0]\n",
    "        df.columns=df.iloc[idx]; df=df.iloc[idx+1:,:]; df.reset_index(drop=True, inplace=True)\n",
    "    except:\n",
    "        try:\n",
    "            idx=[c for c in df[df.apply(lambda row:row.astype(str).str.lower().str.contains('balance').any(),axis=1)==True].index if c in df[df.apply(lambda row:row.astype(str).str.lower().str.contains('description').any(),axis=1)==True].index][0]\n",
    "            df.columns=df.iloc[idx]; df=df.iloc[idx+1:,:]; df.reset_index(drop=True, inplace=True)\n",
    "        except:\n",
    "            print(\"\\nSBI Column Headers Missing\"); pass\n",
    "    try:\n",
    "        df = df.drop([\"Init.\"], axis=1)\n",
    "    except:\n",
    "        try:\n",
    "            df = df.drop([\"Branch Name\"], axis=1)\n",
    "        except:pass\n",
    "\n",
    "    df = df[~df.index.isin(df[df.apply(lambda row:row.astype(str).str.lower().str.contains('opening balance|transaction total|closing balance').any(),axis=1)==True].index)]\n",
    "    #df = pd.DataFrame(df.T.drop_duplicates().T)\n",
    "    df.drop(df.nunique(dropna=False)[(df.nunique(dropna=False) == 1)].index, axis=1, inplace=True)\n",
    "    \n",
    "    try:\n",
    "        bal=[c for c in df.columns if \"BALANCE\" in str(c).upper() ][0]\n",
    "    except: print(\"\\nBalance columns missing\") \n",
    "    \n",
    "    try:\n",
    "        wdl=[c for c in df.columns if \"WITHDRAW\" in str(c).upper() ][0]\n",
    "    except:\n",
    "        try:\n",
    "            wdl=[c for c in df.columns if \"DEBIT\" in str(c).upper() ][0]\n",
    "        except: pass \n",
    "\n",
    "    try:\n",
    "        dep=[c for c in df.columns if \"DEPOSIT\" in str(c).upper() ][0]\n",
    "    except:\n",
    "        try:\n",
    "            dep=[c for c in df.columns if \"CREDIT\" in str(c).upper() ][0]\n",
    "        except: pass\n",
    "        \n",
    "    df[[wdl,dep]] = df[[wdl,dep]].replace({\"-\":np.nan, \"NA\":np.nan})\n",
    "\n",
    "    df[dep]=df[dep].apply( lambda x: x.split(' ')[0] if type(x) == str else x )\n",
    "    df[wdl]=df[wdl].apply( lambda x: x.split(' ')[0] if type(x) == str else x )\n",
    "    df[wdl]=df[wdl].astype(str).apply(lambda x: str(x).replace(\"\\r\",\"\").replace(\",\",\"\").replace(\"Cr\",\"\").replace(\"Dr\",\"\")).astype(float) *-1\n",
    "    df[dep]=df[dep].astype(str).apply(lambda x: str(x).replace(\"\\r\",\"\").replace(\",\",\"\").replace(\"Cr\",\"\").replace(\"Dr\",\"\")).astype(float)\n",
    "    df[bal]=df[bal].astype(str).apply(lambda x:str(x).replace(\",\",\"\").replace(\"Cr\",\"\").replace(\"Dr\",\"\")).astype(float)\n",
    "    #print(df.head())\n",
    "    \n",
    "    df.to_csv(\"parsed.csv\",index=0)\n",
    "    return df\n",
    "\n",
    "f = r\"C:\\Users\\MudraCircle\\Desktop\\bks_raw\\Parsing_testing\\SBI\\files\\sbi04.pdf\"\n",
    "try:\n",
    "    df = Sbi_tab(f) ;df = Sbi_process(df)\n",
    "    print(\"Parsed\")\n",
    "except Exception as e:\n",
    "    print(\"Error:\",e)\n",
    "    print(\"Not Parsed\")"
   ]
  },
  {
   "cell_type": "code",
   "execution_count": null,
   "metadata": {},
   "outputs": [],
   "source": []
  },
  {
   "cell_type": "code",
   "execution_count": null,
   "metadata": {},
   "outputs": [],
   "source": []
  }
 ],
 "metadata": {
  "kernelspec": {
   "display_name": "Python 3",
   "language": "python",
   "name": "python3"
  },
  "language_info": {
   "codemirror_mode": {
    "name": "ipython",
    "version": 3
   },
   "file_extension": ".py",
   "mimetype": "text/x-python",
   "name": "python",
   "nbconvert_exporter": "python",
   "pygments_lexer": "ipython3",
   "version": "3.6.8"
  }
 },
 "nbformat": 4,
 "nbformat_minor": 4
}
