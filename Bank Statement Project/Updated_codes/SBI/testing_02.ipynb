{
 "cells": [
  {
   "cell_type": "code",
   "execution_count": 2,
   "metadata": {},
   "outputs": [],
   "source": [
    "import pandas as pd\n",
    "import numpy as np\n",
    "import re\n",
    "import math\n",
    "import tabula\n",
    "import camelot\n",
    "import pdfminer\n",
    "from pdfminer.pdfinterp import PDFResourceManager, PDFPageInterpreter\n",
    "from pdfminer.converter import TextConverter\n",
    "from pdfminer.layout import LAParams\n",
    "from pdfminer.pdfpage import PDFPage\n",
    "try:\n",
    "    from cStringIO import StringIO\n",
    "except ImportError:\n",
    "    from io import StringIO \n",
    "import matplotlib.pyplot as plt"
   ]
  },
  {
   "cell_type": "code",
   "execution_count": 1,
   "metadata": {},
   "outputs": [
    {
     "data": {
      "text/plain": [
       "180"
      ]
     },
     "execution_count": 1,
     "metadata": {},
     "output_type": "execute_result"
    }
   ],
   "source": [
    "15*12"
   ]
  },
  {
   "cell_type": "code",
   "execution_count": 3,
   "metadata": {},
   "outputs": [],
   "source": [
    "# tables=tabula.read_pdf(f,\n",
    "#                           lattice=True,\n",
    "#                           pages=\"all\",\n",
    "#                           silent=True,\n",
    "#                           multiple_tables=True,\n",
    "#                           pandas_options={'header':None})\n",
    "# df=pd.DataFrame()\n",
    "# df=pd.concat([c for c in tables]).drop_duplicates()"
   ]
  },
  {
   "cell_type": "code",
   "execution_count": 51,
   "metadata": {},
   "outputs": [],
   "source": [
    "f = r\"C:\\Users\\MudraCircle\\Desktop\\bks_raw\\Parsing_testing\\SBI\\files\\sbi01.pdf\"\n",
    "try:\n",
    "    tables=tabula.read_pdf(f,\n",
    "                              lattice=True,\n",
    "                              pages=\"all\",\n",
    "                              silent=True,\n",
    "                              multiple_tables=True,\n",
    "                              pandas_options={'header':None})\n",
    "\n",
    "    for k in [ c for c in tables if c.shape[1]>=6 and c.shape[0]>2]:\n",
    "        k.drop(k.nunique(dropna=False)[(k.nunique(dropna=False) == 2)].index, axis=1,inplace=True)\n",
    "        k.dropna(how='all',axis=1,inplace=True);   k.columns=list(range(k.shape[1]))\n",
    "\n",
    "    df = pd.DataFrame()\n",
    "    df = pd.concat([c for c in tables]).drop_duplicates()\n",
    "    \n",
    "except: pass"
   ]
  },
  {
   "cell_type": "code",
   "execution_count": 52,
   "metadata": {},
   "outputs": [
    {
     "data": {
      "text/html": [
       "<div>\n",
       "<style scoped>\n",
       "    .dataframe tbody tr th:only-of-type {\n",
       "        vertical-align: middle;\n",
       "    }\n",
       "\n",
       "    .dataframe tbody tr th {\n",
       "        vertical-align: top;\n",
       "    }\n",
       "\n",
       "    .dataframe thead th {\n",
       "        text-align: right;\n",
       "    }\n",
       "</style>\n",
       "<table border=\"1\" class=\"dataframe\">\n",
       "  <thead>\n",
       "    <tr style=\"text-align: right;\">\n",
       "      <th></th>\n",
       "      <th>0</th>\n",
       "      <th>1</th>\n",
       "      <th>2</th>\n",
       "      <th>3</th>\n",
       "      <th>4</th>\n",
       "      <th>5</th>\n",
       "      <th>6</th>\n",
       "      <th>7</th>\n",
       "    </tr>\n",
       "  </thead>\n",
       "  <tbody>\n",
       "    <tr>\n",
       "      <th>0</th>\n",
       "      <td>Txn\\rDate</td>\n",
       "      <td>Value\\rDate</td>\n",
       "      <td>Description</td>\n",
       "      <td>Ref\\rNo./Cheque\\rNo.</td>\n",
       "      <td>Branch\\rCode</td>\n",
       "      <td>Debit</td>\n",
       "      <td>Credit</td>\n",
       "      <td>Balance</td>\n",
       "    </tr>\n",
       "    <tr>\n",
       "      <th>1</th>\n",
       "      <td>2 Jul\\r2018</td>\n",
       "      <td>2 Jul\\r2018</td>\n",
       "      <td>BY\\rTRANSFER-\\rNEFT*CITI00\\r00003*CITIN\\r18883...</td>\n",
       "      <td>TRANSFER\\rFROM\\r31994160443\\r03 /</td>\n",
       "      <td>4430</td>\n",
       "      <td>NaN</td>\n",
       "      <td>5,00,000.0\\r0</td>\n",
       "      <td>5,03,809.59</td>\n",
       "    </tr>\n",
       "    <tr>\n",
       "      <th>2</th>\n",
       "      <td>3 Jul\\r2018</td>\n",
       "      <td>3 Jul\\r2018</td>\n",
       "      <td>TO\\rTRANSFER-\\rINB CA to CC\\r-</td>\n",
       "      <td>CIAABALXO6\\rTRANSFER\\rTO\\r37171837744\\rPERSONA...</td>\n",
       "      <td>99922</td>\n",
       "      <td>5,00,000.0\\r0</td>\n",
       "      <td>NaN</td>\n",
       "      <td>3,809.59</td>\n",
       "    </tr>\n",
       "    <tr>\n",
       "      <th>3</th>\n",
       "      <td>5 Jul\\r2018</td>\n",
       "      <td>5 Jul\\r2018</td>\n",
       "      <td>TO\\rTRANSFER-\\rINB\\rBILL_BESCL\\rPayments-</td>\n",
       "      <td>NSBI6455859\\r854CH85374\\r900\\rTRANSFER\\rTO\\r31...</td>\n",
       "      <td>99922</td>\n",
       "      <td>2,561.90</td>\n",
       "      <td>NaN</td>\n",
       "      <td>1,247.69</td>\n",
       "    </tr>\n",
       "    <tr>\n",
       "      <th>1</th>\n",
       "      <td>7 Jul\\r2018</td>\n",
       "      <td>7 Jul\\r2018</td>\n",
       "      <td>BY\\rTRANSFER-\\rINB\\rIMPS818812\\r200870/9731\\r3...</td>\n",
       "      <td>MAC0001374\\r62863\\rMAC0001374\\r62863\\rTRANSFER...</td>\n",
       "      <td>99922</td>\n",
       "      <td>NaN</td>\n",
       "      <td>60,000.00</td>\n",
       "      <td>61,247.69</td>\n",
       "    </tr>\n",
       "  </tbody>\n",
       "</table>\n",
       "</div>"
      ],
      "text/plain": [
       "             0            1  \\\n",
       "0    Txn\\rDate  Value\\rDate   \n",
       "1  2 Jul\\r2018  2 Jul\\r2018   \n",
       "2  3 Jul\\r2018  3 Jul\\r2018   \n",
       "3  5 Jul\\r2018  5 Jul\\r2018   \n",
       "1  7 Jul\\r2018  7 Jul\\r2018   \n",
       "\n",
       "                                                   2  \\\n",
       "0                                        Description   \n",
       "1  BY\\rTRANSFER-\\rNEFT*CITI00\\r00003*CITIN\\r18883...   \n",
       "2                     TO\\rTRANSFER-\\rINB CA to CC\\r-   \n",
       "3          TO\\rTRANSFER-\\rINB\\rBILL_BESCL\\rPayments-   \n",
       "1  BY\\rTRANSFER-\\rINB\\rIMPS818812\\r200870/9731\\r3...   \n",
       "\n",
       "                                                   3             4  \\\n",
       "0                               Ref\\rNo./Cheque\\rNo.  Branch\\rCode   \n",
       "1                  TRANSFER\\rFROM\\r31994160443\\r03 /          4430   \n",
       "2  CIAABALXO6\\rTRANSFER\\rTO\\r37171837744\\rPERSONA...         99922   \n",
       "3  NSBI6455859\\r854CH85374\\r900\\rTRANSFER\\rTO\\r31...         99922   \n",
       "1  MAC0001374\\r62863\\rMAC0001374\\r62863\\rTRANSFER...         99922   \n",
       "\n",
       "               5              6            7  \n",
       "0          Debit         Credit      Balance  \n",
       "1            NaN  5,00,000.0\\r0  5,03,809.59  \n",
       "2  5,00,000.0\\r0            NaN     3,809.59  \n",
       "3       2,561.90            NaN     1,247.69  \n",
       "1            NaN      60,000.00    61,247.69  "
      ]
     },
     "execution_count": 52,
     "metadata": {},
     "output_type": "execute_result"
    }
   ],
   "source": [
    "df=df.replace(r'^\\s*$', np.nan, regex=True)\n",
    "df.head()"
   ]
  },
  {
   "cell_type": "code",
   "execution_count": 53,
   "metadata": {},
   "outputs": [],
   "source": [
    "df = df[df.isnull().sum(axis=1) < df.shape[1]-2].reset_index(drop=True)\n",
    "df.drop(df.nunique(dropna=False)[(df.nunique(dropna=False) == 1)].index, axis=1,inplace=True)"
   ]
  },
  {
   "cell_type": "code",
   "execution_count": 54,
   "metadata": {},
   "outputs": [],
   "source": [
    "try:\n",
    "    idx=[c for c in df[df.apply(lambda row:row.astype(str).str.lower().str.contains('balance').any(),axis=1)==True].index if c in df[df.apply(lambda row:row.astype(str).str.lower().str.contains('date').any(),axis=1)==True].index][0]\n",
    "    df.columns=df.iloc[idx]; df=df.iloc[idx+1:,:]; df.reset_index(drop=True, inplace=True)\n",
    "except:\n",
    "    try:\n",
    "        idx=[c for c in df[df.apply(lambda row:row.astype(str).str.lower().str.contains('balance').any(),axis=1)==True].index if c in df[df.apply(lambda row:row.astype(str).str.lower().str.contains('description').any(),axis=1)==True].index][0]\n",
    "        df.columns=df.iloc[idx]; df=df.iloc[idx+1:,:]; df.reset_index(drop=True, inplace=True)\n",
    "    except:\n",
    "        print(\"\\nSBI Column Headers Missing\"); pass\n",
    "    try:\n",
    "        df = df.drop([\"Init.\"], axis=1)\n",
    "    except:\n",
    "        try:\n",
    "            df = df.drop([\"Branch Name\"], axis=1)\n",
    "        except:pass"
   ]
  },
  {
   "cell_type": "code",
   "execution_count": 55,
   "metadata": {},
   "outputs": [],
   "source": [
    "df = df[~df.index.isin(df[df.apply(lambda row:row.astype(str).str.lower().str.contains('opening balance|transaction total|closing balance|account statement').any(),axis=1)==True].index)]"
   ]
  },
  {
   "cell_type": "code",
   "execution_count": 56,
   "metadata": {},
   "outputs": [],
   "source": [
    "df = pd.DataFrame(df.T.drop_duplicates().T)"
   ]
  },
  {
   "cell_type": "code",
   "execution_count": 57,
   "metadata": {},
   "outputs": [],
   "source": [
    "df.drop(df.nunique(dropna=False)[(df.nunique(dropna=False) == 1)].index, axis=1, inplace=True)"
   ]
  },
  {
   "cell_type": "code",
   "execution_count": null,
   "metadata": {},
   "outputs": [],
   "source": []
  }
 ],
 "metadata": {
  "kernelspec": {
   "display_name": "Python 3",
   "language": "python",
   "name": "python3"
  },
  "language_info": {
   "codemirror_mode": {
    "name": "ipython",
    "version": 3
   },
   "file_extension": ".py",
   "mimetype": "text/x-python",
   "name": "python",
   "nbconvert_exporter": "python",
   "pygments_lexer": "ipython3",
   "version": "3.6.8"
  }
 },
 "nbformat": 4,
 "nbformat_minor": 4
}
