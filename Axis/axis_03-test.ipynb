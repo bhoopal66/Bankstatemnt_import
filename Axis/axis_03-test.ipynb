{
 "cells": [
  {
   "cell_type": "code",
   "execution_count": 1,
   "metadata": {},
   "outputs": [],
   "source": [
    "import pandas as pd\n",
    "import numpy as np\n",
    "import tabula\n",
    "import camelot\n",
    "import pdfminer\n",
    "from pdfminer.pdfinterp import PDFResourceManager, PDFPageInterpreter\n",
    "from pdfminer.converter import TextConverter\n",
    "from pdfminer.layout import LAParams\n",
    "from pdfminer.pdfpage import PDFPage\n",
    "try:\n",
    "    from cStringIO import StringIO\n",
    "except ImportError:\n",
    "    from io import StringIO   "
   ]
  },
  {
   "cell_type": "code",
   "execution_count": 5,
   "metadata": {},
   "outputs": [
    {
     "name": "stdout",
     "output_type": "stream",
     "text": [
      "9\n",
      "\n",
      " different structure on page:  0\n",
      "4\n",
      "\n",
      " different structure on page:  17\n",
      "4\n",
      "\n",
      " different structure on page:  18\n"
     ]
    }
   ],
   "source": [
    "f = \"axis03.pdf\"\n",
    "tables=camelot.read_pdf(f, flavor=\"stream\", pages=\"all\")\n",
    "if len(tables) !=0 :\n",
    "    df=pd.DataFrame(); tmp=pd.DataFrame();\n",
    "    for i in range(len(tables)):\n",
    "        tmp=tables[i].df\n",
    "        if (tmp.shape[1]==8)|(tmp.shape[1]==7)|(tmp.shape[1]==6)|(tmp.shape[1]==5):\n",
    "            df=pd.concat([df,tmp]).drop_duplicates(keep=\"first\").reset_index(drop=True)\n",
    "        else:\n",
    "            print(tmp.shape[1])\n",
    "            print(\"\\n different structure on page: \",i)"
   ]
  },
  {
   "cell_type": "code",
   "execution_count": 7,
   "metadata": {},
   "outputs": [],
   "source": [
    "df.to_csv(\"xns.csv\", index=0)"
   ]
  },
  {
   "cell_type": "code",
   "execution_count": null,
   "metadata": {},
   "outputs": [],
   "source": []
  },
  {
   "cell_type": "code",
   "execution_count": null,
   "metadata": {},
   "outputs": [],
   "source": []
  },
  {
   "cell_type": "code",
   "execution_count": null,
   "metadata": {},
   "outputs": [],
   "source": []
  },
  {
   "cell_type": "code",
   "execution_count": null,
   "metadata": {},
   "outputs": [],
   "source": []
  },
  {
   "cell_type": "code",
   "execution_count": null,
   "metadata": {},
   "outputs": [],
   "source": []
  },
  {
   "cell_type": "code",
   "execution_count": null,
   "metadata": {},
   "outputs": [],
   "source": []
  },
  {
   "cell_type": "code",
   "execution_count": null,
   "metadata": {},
   "outputs": [],
   "source": []
  },
  {
   "cell_type": "code",
   "execution_count": null,
   "metadata": {},
   "outputs": [],
   "source": []
  },
  {
   "cell_type": "code",
   "execution_count": null,
   "metadata": {},
   "outputs": [],
   "source": []
  },
  {
   "cell_type": "code",
   "execution_count": null,
   "metadata": {},
   "outputs": [],
   "source": []
  },
  {
   "cell_type": "code",
   "execution_count": null,
   "metadata": {},
   "outputs": [],
   "source": []
  },
  {
   "cell_type": "code",
   "execution_count": null,
   "metadata": {},
   "outputs": [],
   "source": []
  },
  {
   "cell_type": "code",
   "execution_count": null,
   "metadata": {},
   "outputs": [],
   "source": []
  },
  {
   "cell_type": "code",
   "execution_count": null,
   "metadata": {},
   "outputs": [],
   "source": []
  },
  {
   "cell_type": "code",
   "execution_count": null,
   "metadata": {},
   "outputs": [],
   "source": []
  },
  {
   "cell_type": "code",
   "execution_count": null,
   "metadata": {},
   "outputs": [],
   "source": []
  },
  {
   "cell_type": "code",
   "execution_count": null,
   "metadata": {},
   "outputs": [],
   "source": []
  },
  {
   "cell_type": "code",
   "execution_count": null,
   "metadata": {},
   "outputs": [],
   "source": []
  },
  {
   "cell_type": "code",
   "execution_count": null,
   "metadata": {},
   "outputs": [],
   "source": []
  },
  {
   "cell_type": "code",
   "execution_count": null,
   "metadata": {},
   "outputs": [],
   "source": []
  },
  {
   "cell_type": "code",
   "execution_count": null,
   "metadata": {},
   "outputs": [],
   "source": []
  },
  {
   "cell_type": "code",
   "execution_count": null,
   "metadata": {},
   "outputs": [],
   "source": []
  },
  {
   "cell_type": "code",
   "execution_count": null,
   "metadata": {},
   "outputs": [],
   "source": []
  },
  {
   "cell_type": "code",
   "execution_count": null,
   "metadata": {},
   "outputs": [],
   "source": []
  },
  {
   "cell_type": "code",
   "execution_count": null,
   "metadata": {},
   "outputs": [],
   "source": []
  },
  {
   "cell_type": "code",
   "execution_count": null,
   "metadata": {},
   "outputs": [],
   "source": []
  },
  {
   "cell_type": "code",
   "execution_count": null,
   "metadata": {},
   "outputs": [],
   "source": [
    "import pandas as pd\n",
    "import tabula\n",
    "import camelot\n",
    "import numpy as np\n",
    "\n",
    "try:\n",
    "    tables=camelot.read_pdf(\"axis05.pdf\",flavor='stream' ,pages = \"all\")\n",
    "             \n",
    "    if len(tables) !=0 :\n",
    "        df=pd.DataFrame();    tmp=pd.DataFrame(); \n",
    "        for i in range(len(tables)) :\n",
    "            tmp=tables[i].df  \n",
    "            if (tmp.shape[1] == 6 ):\n",
    "                df=pd.concat([df,tmp]).drop_duplicates(keep='first').reset_index(drop=True)\n",
    "            elif (tmp.shape[1] == 7):\n",
    "                tmp.drop(tmp.columns[[1]], axis=1, inplace=True)\n",
    "                tmp.columns = [0,1,2,3,4,5]\n",
    "                df=pd.concat([df,tmp]).drop_duplicates(keep='first').reset_index(drop=True)\n",
    "            else:\n",
    "                print(tmp.shape[1])\n",
    "                print(\"\\n different structure on page:\",i); #log.write(\"\\n different structure\")        \n",
    "except:\n",
    "    pass\n",
    "\n",
    "try:\n",
    "    df.replace(to_replace = '', value =np.nan,inplace=True)\n",
    "except:pass"
   ]
  },
  {
   "cell_type": "code",
   "execution_count": null,
   "metadata": {},
   "outputs": [],
   "source": [
    "df.head()"
   ]
  },
  {
   "cell_type": "code",
   "execution_count": null,
   "metadata": {},
   "outputs": [],
   "source": [
    "try:\n",
    "    idx=[ c for c in df[df.apply(lambda row: row.astype(str).str.lower().str.contains('balance').any(), axis=1) ==True].index if c in df[df.apply(lambda row: row.astype(str).str.lower().str.contains('date').any(), axis=1) ==True].index ][0]\n",
    "    df.columns=df.iloc[idx] ; df=df.iloc[idx+1:,:] ; df.reset_index(drop=True,inplace=True)\n",
    "except:\n",
    "    try:\n",
    "        idx=[ c for c in df[df.apply(lambda row: row.astype(str).str.lower().str.contains('balance').any(), axis=1) ==True].index if c in df[df.apply(lambda row: row.astype(str).str.lower().str.contains('particular').any(), axis=1) ==True].index ][0]\n",
    "        df.columns=df.iloc[idx] ; df=df.iloc[idx+1:,:] ; df.reset_index(drop=True,inplace=True)           \n",
    "    except:\n",
    "        print(\"\\nAxis-Column headers missing\"); pass"
   ]
  },
  {
   "cell_type": "code",
   "execution_count": null,
   "metadata": {},
   "outputs": [],
   "source": [
    "try:\n",
    "    df = df.drop([\"Init.\"], axis=1)\n",
    "except:\n",
    "    try:\n",
    "        df = df.drop([\"Branch Name\"], axis=1)\n",
    "    except:pass\n",
    "df.head()"
   ]
  },
  {
   "cell_type": "code",
   "execution_count": null,
   "metadata": {},
   "outputs": [],
   "source": [
    "df=df[~df.index.isin(df[df.apply(lambda row: row.astype(str).str.lower().str.contains('opening balance|transaction total|closing balance').any(), axis=1) ==True].index)]\n",
    "df.drop(df.nunique(dropna=False)[(df.nunique(dropna=False) == 1)].index, axis=1,inplace=True)\n",
    "df.head()"
   ]
  },
  {
   "cell_type": "code",
   "execution_count": null,
   "metadata": {},
   "outputs": [],
   "source": [
    "try:\n",
    "    narr=[n for n in df.columns if \"PARTICULARS\" in str(n).upper()][0]\n",
    "except:\n",
    "    try:\n",
    "        narr=[n for n in df.columns if \"NARRATION\" in str(n).upper()][0]\n",
    "    except:\n",
    "        try:\n",
    "            narr=[n for n in df.columns if \"DESCRIPTION\" in str(n).upper()][0] \n",
    "        except:\n",
    "            pass"
   ]
  },
  {
   "cell_type": "code",
   "execution_count": null,
   "metadata": {},
   "outputs": [],
   "source": [
    "df = df[pd.notnull(df[narr])]\n",
    "\n",
    "df.iloc[:,-1]=df.iloc[:,-1].fillna(df.iloc[:,-2])"
   ]
  },
  {
   "cell_type": "code",
   "execution_count": null,
   "metadata": {},
   "outputs": [],
   "source": [
    "df.head()"
   ]
  },
  {
   "cell_type": "code",
   "execution_count": null,
   "metadata": {},
   "outputs": [],
   "source": [
    "def abc(a):\n",
    "    if type(a) ==str:\n",
    "        if len(a.split(' '))==2:\n",
    "            z=a.split(' ')[1]\n",
    "        else:\n",
    "            z=a.split(' ')[0]\n",
    "    else :\n",
    "        z=a\n",
    "    return z\n",
    "\n",
    "try:\n",
    "    bal=[c for c in df.columns if \"BALANCE\" in str(c).upper()][0]\n",
    "    df[bal]=df[bal].apply(lambda x: abc(x))\n",
    "except:\n",
    "    print(\"\\nBalance Column Missing\")"
   ]
  },
  {
   "cell_type": "code",
   "execution_count": null,
   "metadata": {},
   "outputs": [],
   "source": [
    "df[\"flag\"]=df.iloc[:,-1].shift(1)\n",
    "df=df[~df.index.isin(df[df.iloc[:,-1]==df.iloc[:,-2]].index)]"
   ]
  },
  {
   "cell_type": "code",
   "execution_count": null,
   "metadata": {},
   "outputs": [],
   "source": [
    "df=df.T.drop_duplicates().T\n",
    "df[bal]=df[bal].apply(lambda x: str(x).replace(\",\",\"\").replace(\"(Cr)\",\"\").replace(\"(Dr)\",\"\")).astype(float)\n",
    "df[\"flag\"]=df.iloc[:,0].astype(str)+df[bal].astype(str)\n",
    "df[\"flag2\"]=np.arange(len(df))\n",
    "\n",
    "df.head()"
   ]
  },
  {
   "cell_type": "code",
   "execution_count": null,
   "metadata": {},
   "outputs": [],
   "source": [
    "df.loc[df[[\"flag\"]].duplicated(keep=False), 'flag'] = df[\"flag\"]+df[\"flag2\"].astype(str)\n",
    "df['flag']=df['flag'].apply(lambda row : np.nan if 'nannan' in row else row).fillna(method='bfill')"
   ]
  },
  {
   "cell_type": "code",
   "execution_count": null,
   "metadata": {},
   "outputs": [],
   "source": [
    "df.head()"
   ]
  },
  {
   "cell_type": "code",
   "execution_count": null,
   "metadata": {},
   "outputs": [],
   "source": [
    "df[narr]=df.groupby('flag')[narr].transform(lambda x:''.join(x))\n",
    "df.head()"
   ]
  },
  {
   "cell_type": "code",
   "execution_count": null,
   "metadata": {},
   "outputs": [],
   "source": [
    "df=df.drop_duplicates(['flag'],keep='last').iloc[0:,:-2].reset_index(drop=True)\n",
    "df.to_csv(\"parsed.csv\",index=0)"
   ]
  },
  {
   "cell_type": "code",
   "execution_count": null,
   "metadata": {},
   "outputs": [],
   "source": []
  },
  {
   "cell_type": "code",
   "execution_count": null,
   "metadata": {},
   "outputs": [],
   "source": [
    "try:\n",
    "    narr=[n for n in df.columns if \"PARTICULARS\" in str(n).upper()][0]\n",
    "    print(\"try1\")\n",
    "except:\n",
    "    try:\n",
    "        narr=[n for n in df.columns if \"NARRATION\" in str(n).upper()][0]\n",
    "    except:\n",
    "        try:\n",
    "            narr=[n for n in df.columns if \"DESCRIPTION\" in str(n).upper()][0] \n",
    "        except:\n",
    "            pass"
   ]
  },
  {
   "cell_type": "code",
   "execution_count": null,
   "metadata": {},
   "outputs": [],
   "source": [
    "df.reset_index(drop=True,inplace=True)\n",
    "df = df[pd.notnull(df[narr])]\n",
    "df.head()"
   ]
  },
  {
   "cell_type": "code",
   "execution_count": null,
   "metadata": {},
   "outputs": [],
   "source": [
    "try:\n",
    "    df = df.drop([\"Init.\"], axis=1)\n",
    "except:\n",
    "    try:\n",
    "        df = df.drop([\"Branch Name\"], axis=1)\n",
    "    except:pass\n",
    "df.head()"
   ]
  },
  {
   "cell_type": "code",
   "execution_count": null,
   "metadata": {},
   "outputs": [],
   "source": [
    "# df.replace(to_replace = '', value =np.nan,inplace=True)"
   ]
  },
  {
   "cell_type": "code",
   "execution_count": null,
   "metadata": {},
   "outputs": [],
   "source": [
    "# try:\n",
    "#     narr=[n for n in df.columns if \"PARTICULARS\" in str(n).upper()][0]\n",
    "#     print(\"try1\")\n",
    "# except:\n",
    "#     try:\n",
    "#         narr=[n for n in df.columns if \"NARRATION\" in str(n).upper()][0]\n",
    "#     except:\n",
    "#         try:\n",
    "#             narr=[n for n in df.columns if \"DESCRIPTION\" in str(n).upper()][0] \n",
    "#         except:\n",
    "#             pass"
   ]
  },
  {
   "cell_type": "code",
   "execution_count": null,
   "metadata": {},
   "outputs": [],
   "source": [
    "# df.reset_index(drop=True,inplace=True)\n",
    "# df = df[pd.notnull(df[narr])]\n",
    "# df.head()"
   ]
  },
  {
   "cell_type": "code",
   "execution_count": null,
   "metadata": {},
   "outputs": [],
   "source": [
    "df.iloc[:,-1]=df.iloc[:,-1].fillna(df.iloc[:,-2])"
   ]
  },
  {
   "cell_type": "code",
   "execution_count": null,
   "metadata": {},
   "outputs": [],
   "source": [
    "def abc(a):\n",
    "    if type(a) ==str:\n",
    "        if len(a.split(' '))==2:\n",
    "            z=a.split(' ')[1]\n",
    "        else:\n",
    "            z=a.split(' ')[0]\n",
    "    else :\n",
    "        z=a\n",
    "    return z\n",
    "\n",
    "try:\n",
    "    bal=[c for c in df.columns if \"BALANCE\" in str(c).upper()][0]\n",
    "    df[bal]=df[bal].apply(lambda x: abc(x))\n",
    "except:\n",
    "    print(\"\\nBalance Column Missing\")"
   ]
  },
  {
   "cell_type": "code",
   "execution_count": null,
   "metadata": {},
   "outputs": [],
   "source": [
    "df[\"flag\"]=df.iloc[:,-1].shift(1)\n",
    "df=df[~df.index.isin(df[df.iloc[:,-1]==df.iloc[:,-2]].index)]"
   ]
  },
  {
   "cell_type": "code",
   "execution_count": null,
   "metadata": {},
   "outputs": [],
   "source": [
    "df.head()"
   ]
  },
  {
   "cell_type": "code",
   "execution_count": null,
   "metadata": {},
   "outputs": [],
   "source": [
    "df.to_csv(\"dt2.csv\",index=0)"
   ]
  },
  {
   "cell_type": "code",
   "execution_count": null,
   "metadata": {},
   "outputs": [],
   "source": [
    "df=df.T.drop_duplicates().T\n",
    "try:\n",
    "    df[bal]=df[bal].apply(lambda x: str(x).replace(\",\",\"\").replace(\"(Cr)\",\"\").replace(\"(Dr)\",\"\")).astype(float)\n",
    "except:pass\n",
    "df[\"flag\"]=df.iloc[:,0].astype(str)+df[bal].astype(str)\n",
    "df[\"flag2\"]=np.arange(len(df))\n",
    "df.head()"
   ]
  },
  {
   "cell_type": "code",
   "execution_count": null,
   "metadata": {},
   "outputs": [],
   "source": [
    "# df.replace(to_replace = '', value =np.nan,inplace=True)"
   ]
  },
  {
   "cell_type": "code",
   "execution_count": null,
   "metadata": {},
   "outputs": [],
   "source": [
    "df.head()"
   ]
  },
  {
   "cell_type": "code",
   "execution_count": null,
   "metadata": {},
   "outputs": [],
   "source": [
    "df.loc[df[[\"flag\"]].duplicated(keep=False), 'flag'] = df[\"flag\"]+df[\"flag2\"].astype(str)\n"
   ]
  },
  {
   "cell_type": "code",
   "execution_count": null,
   "metadata": {},
   "outputs": [],
   "source": [
    "df.head()"
   ]
  },
  {
   "cell_type": "code",
   "execution_count": null,
   "metadata": {},
   "outputs": [],
   "source": [
    "df['flag']=df['flag'].apply(lambda row : np.nan if 'nannan' in row else row).fillna(method='bfill')"
   ]
  },
  {
   "cell_type": "code",
   "execution_count": null,
   "metadata": {},
   "outputs": [],
   "source": [
    "df.head()"
   ]
  },
  {
   "cell_type": "code",
   "execution_count": null,
   "metadata": {},
   "outputs": [],
   "source": [
    "for i in df[\"Particulars\"]:\n",
    "    print(i,\";\",type(i))"
   ]
  },
  {
   "cell_type": "code",
   "execution_count": null,
   "metadata": {},
   "outputs": [],
   "source": [
    "df[narr]=df.groupby('flag')[narr].transform(lambda x:''.join(x))\n",
    "df=df.drop_duplicates(['flag'],keep='last').iloc[0:,:-2].reset_index(drop=True)\n",
    "df.to_csv(\"parsed.csv\",index=0)"
   ]
  }
 ],
 "metadata": {
  "kernelspec": {
   "display_name": "Python 3",
   "language": "python",
   "name": "python3"
  },
  "language_info": {
   "codemirror_mode": {
    "name": "ipython",
    "version": 3
   },
   "file_extension": ".py",
   "mimetype": "text/x-python",
   "name": "python",
   "nbconvert_exporter": "python",
   "pygments_lexer": "ipython3",
   "version": "3.6.8"
  }
 },
 "nbformat": 4,
 "nbformat_minor": 4
}
